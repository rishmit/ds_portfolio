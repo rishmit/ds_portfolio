{
 "cells": [
  {
   "cell_type": "markdown",
   "id": "20b9650f",
   "metadata": {},
   "source": [
    "# Comparison of Consumer Price Indexes of United States Key Metropolitan Areas During President Obama Presidency"
   ]
  },
  {
   "cell_type": "markdown",
   "id": "7302ab98",
   "metadata": {},
   "source": [
    "According to U.S. [Bureau Of Labor Statistics](https://www.bls.gov/cpi/) (BLS), Consumer Price Index (CPI) is defined as the “measure of the average change over time in the prices paid by urban consumers for a market basket of consumer goods and services. Indexes are available for the U.S. and various geographic areas. Average price data for select utility, automotive fuel, and food items are also available.”. The BLS calculates the CPI as a [weighted average](https://www.investopedia.com/terms/w/weightedaverage.asp) of prices for a basket of goods and services representative of aggregate U.S. consumer spending.\n",
    "\n",
    "CPI is one of the more popular means of measuring inflation (or deflation). Historically, CPI has been increasing over time. Consumer prices have been up by 3.5% from March 2023 to March 2024 [[1](https://www.bls.gov/opub/ted/2024/consumer-prices-up-3-5-percent-from-march-2023-to-march-2024.htm)]. This includes an increase of 2.2% in food. While the petroleum prices rose 7.5% over the year; prices for natural gas fell 50.3% [[2](https://www.bls.gov/opub/ted/2024/u-s-import-prices-up-0-4-percent-over-the-year-ended-march-2024.htm)].\n",
    "\n",
    "The BLS collects about 80,000 prices monthly from around 23,000 retail and service establishments; and publishes two indexes each month. The Consumer Price Index for All Urban Consumers (CPI-U) represents 93% of the U.S. population not living in remote rural areas. The eight major groups of CPI are: Food and Beverages, Housing, Apparel, Transportation, Education and Communication, Medical Care, Recreation and Other Goods and Services.\n",
    "\n",
    "The CPI is widely used by financial market participants to gauge inflation and by the Federal Reserve to calibrate its monetary policy. Businesses and consumers also use the CPI to make informed economic decisions. Since CPI measures the change in consumers’ purchasing power, it is often a key factor in pay negotiations."
   ]
  },
  {
   "cell_type": "markdown",
   "id": "6897abe2",
   "metadata": {},
   "source": [
    "###  Objective of the project:"
   ]
  },
  {
   "cell_type": "markdown",
   "id": "d3931b74",
   "metadata": {},
   "source": [
    "The project aims to looks at CPI data published by the BLS over a period ranging 1984 to 2023, and visualize how CPI has changed over time. Finally, it analyzes Barack Obama’s term as President and looks at how CPI for major Metropolitan areas evolved from the start of his presidency until the end of this second term presidency using Principal Component Analysis and Single Value Decomposition.\n",
    "\n",
    "The CPI is computed not only at the national level but also for specific regions and metropolitan areas within the United States.\n",
    "\n",
    "Each metropolitan area has its own CPI, which reflects local price variations. The CPI for metropolitan areas provides a more localized view of inflation trends. The CPI for metropolitan areas includes major cities and their surrounding regions.\n",
    "To get started, the following cell imports the necessary libraries needed in the notebook."
   ]
  },
  {
   "cell_type": "code",
   "execution_count": 2,
   "id": "25ac9855",
   "metadata": {},
   "outputs": [],
   "source": [
    "import numpy as np\n",
    "import pandas as pd\n",
    "import matplotlib.pyplot as plt"
   ]
  },
  {
   "cell_type": "markdown",
   "id": "5362113f",
   "metadata": {},
   "source": [
    "The cell below imports the widgets functionality that will be used to view the evolution of CPI in the Metropolitan areas."
   ]
  },
  {
   "cell_type": "code",
   "execution_count": 3,
   "id": "a68baf27",
   "metadata": {},
   "outputs": [],
   "source": [
    "import ipywidgets as widgets\n",
    "from ipywidgets import interact, Dropdown"
   ]
  },
  {
   "cell_type": "markdown",
   "id": "40516754",
   "metadata": {},
   "source": [
    "The data is present as csv files, with each file corresponding to the Metropolitan areas. The areas in concern are: 1. Anchorage, AK 2. Chicago-Gary-Kenosha, IL-IN-WI 3. Detroit-Ann Arbor-Flint, MI 4. Houston-Galveston-Brazoria, TX 5. Kansas City, MO-KS 6. Los Angeles-Riverside-Orange County, CA 7. Miami-Fort Lauderdale, FL 8. New York-Northern New Jersey-Long Island, NY-NJ-CT-PA 9. Philadelphia-Wilmington-Atlantic City, PA-NJ-DE-MD 10. Pittsburgh, PA 11. San Francisco-Oakland-San Jose, CA 12. Seattle-Tacoma-Bremerton, WA 13. St. Louis, MO-IL 14. Atlanta, GA\n",
    "\n",
    "The files are loaded into the notebook using a simple ```load_file``` function and stored as a respective Pandas DataFrame."
   ]
  },
  {
   "cell_type": "code",
   "execution_count": 4,
   "id": "5621013f",
   "metadata": {},
   "outputs": [
    {
     "name": "stdout",
     "output_type": "stream",
     "text": [
      "All files loaded...\n"
     ]
    }
   ],
   "source": [
    "def load_file(area):\n",
    "    file = area + '.csv'\n",
    "    return pd.read_csv(file)\n",
    "\n",
    "AK = load_file('Anchorage, AK')\n",
    "IL_IN_WI = load_file('Chicago-Gary-Kenosha, IL-IN-WI')\n",
    "MI = load_file('Detroit-Ann Arbor-Flint, MI')\n",
    "TX = load_file('Houston-Galveston-Brazoria, TX')\n",
    "MO_KS = load_file('Kansas City, MO-KS')\n",
    "CA1 = load_file('Los Angeles-Riverside-Orange County, CA')\n",
    "FL = load_file('Miami-Fort Lauderdale, FL')\n",
    "NY_NJ_CT_PA = load_file('New York-Northern New Jersey-Long Island, NY-NJ-CT-PA')\n",
    "PA_NJ_DE_MD = load_file('Philadelphia-Wilmington-Atlantic City, PA-NJ-DE-MD')\n",
    "PA = load_file('Pittsburgh, PA')\n",
    "CA2 = load_file('San Francisco-Oakland-San Jose, CA')\n",
    "WA = load_file('Seattle-Tacoma-Bremerton, WA')\n",
    "MO_IL = load_file('St. Louis, MO-IL')\n",
    "GA = load_file('Atlanta, GA')\n",
    "\n",
    "print('All files loaded...')"
   ]
  },
  {
   "cell_type": "markdown",
   "id": "980f00d2",
   "metadata": {},
   "source": [
    "### Dataset"
   ]
  },
  {
   "cell_type": "markdown",
   "id": "beb20acd",
   "metadata": {},
   "source": [
    "Now that the datasets have been loaded as DataFrames, they need to be analyzed and cleaned. Looking at one of the DataFrames, it is seen that it contains a ```DATE``` column, and the rest of the columns contain float numbers representing the major groups of CPI as explained earlier. However, it contains column names that are unreadable, numbers stored as strings, missing values, etc.\n",
    "\n",
    "Let’s look at ```TX``` DataFrame."
   ]
  },
  {
   "cell_type": "code",
   "execution_count": 5,
   "id": "0a4ff8fc",
   "metadata": {},
   "outputs": [
    {
     "data": {
      "application/vnd.microsoft.datawrangler.viewer.v0+json": {
       "columns": [
        {
         "name": "index",
         "rawType": "int64",
         "type": "integer"
        },
        {
         "name": "DATE",
         "rawType": "object",
         "type": "string"
        },
        {
         "name": "CUUSA318SAF",
         "rawType": "float64",
         "type": "float"
        },
        {
         "name": "CUUSA318SAH",
         "rawType": "float64",
         "type": "float"
        },
        {
         "name": "CUUSA318SAA",
         "rawType": "float64",
         "type": "float"
        },
        {
         "name": "CUUSA318SAT",
         "rawType": "float64",
         "type": "float"
        },
        {
         "name": "CUUSA318SAR",
         "rawType": "object",
         "type": "string"
        },
        {
         "name": "CUUSA318SAE",
         "rawType": "object",
         "type": "string"
        },
        {
         "name": "CUUSA318SAG",
         "rawType": "float64",
         "type": "float"
        }
       ],
       "ref": "ed490b67-69f4-4703-a444-449e8d7269f5",
       "rows": [
        [
         "0",
         "1984-01-01",
         "103.8",
         "99.5",
         "101.0",
         "101.2",
         ".",
         ".",
         "105.4"
        ],
        [
         "1",
         "1984-07-01",
         "104.8",
         "100.3",
         "102.7",
         "105.4",
         ".",
         ".",
         "109.0"
        ],
        [
         "2",
         "1985-01-01",
         "104.9",
         "100.2",
         "104.1",
         "105.4",
         ".",
         ".",
         "111.1"
        ],
        [
         "3",
         "1985-07-01",
         "105.0",
         "100.1",
         "104.7",
         "106.9",
         ".",
         ".",
         "113.9"
        ],
        [
         "4",
         "1986-01-01",
         "106.4",
         "98.5",
         "105.8",
         "101.2",
         ".",
         ".",
         "116.7"
        ]
       ],
       "shape": {
        "columns": 8,
        "rows": 5
       }
      },
      "text/html": [
       "<div>\n",
       "<style scoped>\n",
       "    .dataframe tbody tr th:only-of-type {\n",
       "        vertical-align: middle;\n",
       "    }\n",
       "\n",
       "    .dataframe tbody tr th {\n",
       "        vertical-align: top;\n",
       "    }\n",
       "\n",
       "    .dataframe thead th {\n",
       "        text-align: right;\n",
       "    }\n",
       "</style>\n",
       "<table border=\"1\" class=\"dataframe\">\n",
       "  <thead>\n",
       "    <tr style=\"text-align: right;\">\n",
       "      <th></th>\n",
       "      <th>DATE</th>\n",
       "      <th>CUUSA318SAF</th>\n",
       "      <th>CUUSA318SAH</th>\n",
       "      <th>CUUSA318SAA</th>\n",
       "      <th>CUUSA318SAT</th>\n",
       "      <th>CUUSA318SAR</th>\n",
       "      <th>CUUSA318SAE</th>\n",
       "      <th>CUUSA318SAG</th>\n",
       "    </tr>\n",
       "  </thead>\n",
       "  <tbody>\n",
       "    <tr>\n",
       "      <th>0</th>\n",
       "      <td>1984-01-01</td>\n",
       "      <td>103.8</td>\n",
       "      <td>99.5</td>\n",
       "      <td>101.0</td>\n",
       "      <td>101.2</td>\n",
       "      <td>.</td>\n",
       "      <td>.</td>\n",
       "      <td>105.4</td>\n",
       "    </tr>\n",
       "    <tr>\n",
       "      <th>1</th>\n",
       "      <td>1984-07-01</td>\n",
       "      <td>104.8</td>\n",
       "      <td>100.3</td>\n",
       "      <td>102.7</td>\n",
       "      <td>105.4</td>\n",
       "      <td>.</td>\n",
       "      <td>.</td>\n",
       "      <td>109.0</td>\n",
       "    </tr>\n",
       "    <tr>\n",
       "      <th>2</th>\n",
       "      <td>1985-01-01</td>\n",
       "      <td>104.9</td>\n",
       "      <td>100.2</td>\n",
       "      <td>104.1</td>\n",
       "      <td>105.4</td>\n",
       "      <td>.</td>\n",
       "      <td>.</td>\n",
       "      <td>111.1</td>\n",
       "    </tr>\n",
       "    <tr>\n",
       "      <th>3</th>\n",
       "      <td>1985-07-01</td>\n",
       "      <td>105.0</td>\n",
       "      <td>100.1</td>\n",
       "      <td>104.7</td>\n",
       "      <td>106.9</td>\n",
       "      <td>.</td>\n",
       "      <td>.</td>\n",
       "      <td>113.9</td>\n",
       "    </tr>\n",
       "    <tr>\n",
       "      <th>4</th>\n",
       "      <td>1986-01-01</td>\n",
       "      <td>106.4</td>\n",
       "      <td>98.5</td>\n",
       "      <td>105.8</td>\n",
       "      <td>101.2</td>\n",
       "      <td>.</td>\n",
       "      <td>.</td>\n",
       "      <td>116.7</td>\n",
       "    </tr>\n",
       "  </tbody>\n",
       "</table>\n",
       "</div>"
      ],
      "text/plain": [
       "         DATE  CUUSA318SAF  CUUSA318SAH  CUUSA318SAA  CUUSA318SAT CUUSA318SAR  \\\n",
       "0  1984-01-01        103.8         99.5        101.0        101.2           .   \n",
       "1  1984-07-01        104.8        100.3        102.7        105.4           .   \n",
       "2  1985-01-01        104.9        100.2        104.1        105.4           .   \n",
       "3  1985-07-01        105.0        100.1        104.7        106.9           .   \n",
       "4  1986-01-01        106.4         98.5        105.8        101.2           .   \n",
       "\n",
       "  CUUSA318SAE  CUUSA318SAG  \n",
       "0           .        105.4  \n",
       "1           .        109.0  \n",
       "2           .        111.1  \n",
       "3           .        113.9  \n",
       "4           .        116.7  "
      ]
     },
     "execution_count": 5,
     "metadata": {},
     "output_type": "execute_result"
    }
   ],
   "source": [
    "TX.head()"
   ]
  },
  {
   "cell_type": "markdown",
   "id": "5caac820",
   "metadata": {},
   "source": [
    "Let’s look at the data types."
   ]
  },
  {
   "cell_type": "code",
   "execution_count": 6,
   "id": "4eade245",
   "metadata": {},
   "outputs": [
    {
     "data": {
      "application/vnd.microsoft.datawrangler.viewer.v0+json": {
       "columns": [
        {
         "name": "index",
         "rawType": "object",
         "type": "string"
        },
        {
         "name": "0",
         "rawType": "object",
         "type": "unknown"
        }
       ],
       "ref": "795daef7-4168-4616-882f-f1e93eb8e42d",
       "rows": [
        [
         "DATE",
         "object"
        ],
        [
         "CUUSA318SAF",
         "float64"
        ],
        [
         "CUUSA318SAH",
         "float64"
        ],
        [
         "CUUSA318SAA",
         "float64"
        ],
        [
         "CUUSA318SAT",
         "float64"
        ],
        [
         "CUUSA318SAR",
         "object"
        ],
        [
         "CUUSA318SAE",
         "object"
        ],
        [
         "CUUSA318SAG",
         "float64"
        ]
       ],
       "shape": {
        "columns": 1,
        "rows": 8
       }
      },
      "text/plain": [
       "DATE            object\n",
       "CUUSA318SAF    float64\n",
       "CUUSA318SAH    float64\n",
       "CUUSA318SAA    float64\n",
       "CUUSA318SAT    float64\n",
       "CUUSA318SAR     object\n",
       "CUUSA318SAE     object\n",
       "CUUSA318SAG    float64\n",
       "dtype: object"
      ]
     },
     "execution_count": 6,
     "metadata": {},
     "output_type": "execute_result"
    }
   ],
   "source": [
    "TX.dtypes"
   ]
  },
  {
   "cell_type": "markdown",
   "id": "b01d1922",
   "metadata": {},
   "source": [
    "The DataFrames are stored in a list ```met_areas```."
   ]
  },
  {
   "cell_type": "code",
   "execution_count": 7,
   "id": "e8f68910",
   "metadata": {},
   "outputs": [],
   "source": [
    "met_areas = [AK, IL_IN_WI, MI, TX, MO_KS, CA1, FL, NY_NJ_CT_PA, PA_NJ_DE_MD, PA, CA2, WA, MO_IL, GA]"
   ]
  },
  {
   "cell_type": "markdown",
   "id": "5168d64a",
   "metadata": {},
   "source": [
    "The following code cell renames the column names and changes the ```DATE``` column to ```datatime``` value from ```string```."
   ]
  },
  {
   "cell_type": "code",
   "execution_count": 8,
   "id": "af34edf6",
   "metadata": {},
   "outputs": [
    {
     "name": "stdout",
     "output_type": "stream",
     "text": [
      "Column names have been renamed...\n"
     ]
    }
   ],
   "source": [
    "for area in met_areas:\n",
    "    area.rename(columns = {area.columns[1] : 'FOOD_BEVERAGES', \\\n",
    "                           area.columns[2] : 'HOUSING', \\\n",
    "                           area.columns[3] : 'APPAREL', \\\n",
    "                           area.columns[4] : 'TRANSPORTATION', \\\n",
    "                           area.columns[5] : 'RECREATION', \\\n",
    "                           area.columns[6] : 'EDUCATION', \\\n",
    "                           area.columns[7] : 'OTHER_SERVICES'}, \\\n",
    "                inplace = True)\n",
    "    area['DATE'] = pd.to_datetime(area['DATE'])\n",
    "    \n",
    "print('Column names have been renamed...')"
   ]
  },
  {
   "cell_type": "markdown",
   "id": "94592e2c",
   "metadata": {},
   "source": [
    "The following code cell replaces missing values with ```NaN``` and changes the dtype from ```string``` to ```float```."
   ]
  },
  {
   "cell_type": "code",
   "execution_count": 9,
   "id": "e62315bb",
   "metadata": {},
   "outputs": [],
   "source": [
    "for area in met_areas:\n",
    "    area_recr = area['RECREATION'].copy()\n",
    "    area_recr[area_recr == '.'] = np.nan\n",
    "    area['RECREATION'] = area_recr\n",
    "    area['RECREATION'] = area['RECREATION'].astype(float)\n",
    "    \n",
    "    area_edu = area['EDUCATION'].copy()\n",
    "    area_edu[area_edu == '.'] = np.nan\n",
    "    area['EDUCATION'] = area_edu\n",
    "    area['EDUCATION'] = area['EDUCATION'].astype(float)"
   ]
  },
  {
   "cell_type": "markdown",
   "id": "71ec3ac8",
   "metadata": {},
   "source": [
    "Observe the ```dtypes``` of the columns and the first five and last five rows of the ```TX``` DataFrame."
   ]
  },
  {
   "cell_type": "code",
   "execution_count": 10,
   "id": "93d391cf",
   "metadata": {},
   "outputs": [
    {
     "data": {
      "application/vnd.microsoft.datawrangler.viewer.v0+json": {
       "columns": [
        {
         "name": "index",
         "rawType": "object",
         "type": "string"
        },
        {
         "name": "0",
         "rawType": "object",
         "type": "unknown"
        }
       ],
       "ref": "003782db-11b9-4a80-9cfc-2683dfa1c63e",
       "rows": [
        [
         "DATE",
         "datetime64[ns]"
        ],
        [
         "FOOD_BEVERAGES",
         "float64"
        ],
        [
         "HOUSING",
         "float64"
        ],
        [
         "APPAREL",
         "float64"
        ],
        [
         "TRANSPORTATION",
         "float64"
        ],
        [
         "RECREATION",
         "float64"
        ],
        [
         "EDUCATION",
         "float64"
        ],
        [
         "OTHER_SERVICES",
         "float64"
        ]
       ],
       "shape": {
        "columns": 1,
        "rows": 8
       }
      },
      "text/plain": [
       "DATE              datetime64[ns]\n",
       "FOOD_BEVERAGES           float64\n",
       "HOUSING                  float64\n",
       "APPAREL                  float64\n",
       "TRANSPORTATION           float64\n",
       "RECREATION               float64\n",
       "EDUCATION                float64\n",
       "OTHER_SERVICES           float64\n",
       "dtype: object"
      ]
     },
     "execution_count": 10,
     "metadata": {},
     "output_type": "execute_result"
    }
   ],
   "source": [
    "TX.dtypes"
   ]
  },
  {
   "cell_type": "code",
   "execution_count": 11,
   "id": "09d168bf",
   "metadata": {},
   "outputs": [
    {
     "data": {
      "application/vnd.microsoft.datawrangler.viewer.v0+json": {
       "columns": [
        {
         "name": "index",
         "rawType": "int64",
         "type": "integer"
        },
        {
         "name": "DATE",
         "rawType": "datetime64[ns]",
         "type": "datetime"
        },
        {
         "name": "FOOD_BEVERAGES",
         "rawType": "float64",
         "type": "float"
        },
        {
         "name": "HOUSING",
         "rawType": "float64",
         "type": "float"
        },
        {
         "name": "APPAREL",
         "rawType": "float64",
         "type": "float"
        },
        {
         "name": "TRANSPORTATION",
         "rawType": "float64",
         "type": "float"
        },
        {
         "name": "RECREATION",
         "rawType": "float64",
         "type": "float"
        },
        {
         "name": "EDUCATION",
         "rawType": "float64",
         "type": "float"
        },
        {
         "name": "OTHER_SERVICES",
         "rawType": "float64",
         "type": "float"
        }
       ],
       "ref": "687fe609-fd34-4ea4-b73e-e802d8ac5681",
       "rows": [
        [
         "0",
         "1984-01-01 00:00:00",
         "103.8",
         "99.5",
         "101.0",
         "101.2",
         null,
         null,
         "105.4"
        ],
        [
         "1",
         "1984-07-01 00:00:00",
         "104.8",
         "100.3",
         "102.7",
         "105.4",
         null,
         null,
         "109.0"
        ],
        [
         "2",
         "1985-01-01 00:00:00",
         "104.9",
         "100.2",
         "104.1",
         "105.4",
         null,
         null,
         "111.1"
        ],
        [
         "3",
         "1985-07-01 00:00:00",
         "105.0",
         "100.1",
         "104.7",
         "106.9",
         null,
         null,
         "113.9"
        ],
        [
         "4",
         "1986-01-01 00:00:00",
         "106.4",
         "98.5",
         "105.8",
         "101.2",
         null,
         null,
         "116.7"
        ]
       ],
       "shape": {
        "columns": 8,
        "rows": 5
       }
      },
      "text/html": [
       "<div>\n",
       "<style scoped>\n",
       "    .dataframe tbody tr th:only-of-type {\n",
       "        vertical-align: middle;\n",
       "    }\n",
       "\n",
       "    .dataframe tbody tr th {\n",
       "        vertical-align: top;\n",
       "    }\n",
       "\n",
       "    .dataframe thead th {\n",
       "        text-align: right;\n",
       "    }\n",
       "</style>\n",
       "<table border=\"1\" class=\"dataframe\">\n",
       "  <thead>\n",
       "    <tr style=\"text-align: right;\">\n",
       "      <th></th>\n",
       "      <th>DATE</th>\n",
       "      <th>FOOD_BEVERAGES</th>\n",
       "      <th>HOUSING</th>\n",
       "      <th>APPAREL</th>\n",
       "      <th>TRANSPORTATION</th>\n",
       "      <th>RECREATION</th>\n",
       "      <th>EDUCATION</th>\n",
       "      <th>OTHER_SERVICES</th>\n",
       "    </tr>\n",
       "  </thead>\n",
       "  <tbody>\n",
       "    <tr>\n",
       "      <th>0</th>\n",
       "      <td>1984-01-01</td>\n",
       "      <td>103.8</td>\n",
       "      <td>99.5</td>\n",
       "      <td>101.0</td>\n",
       "      <td>101.2</td>\n",
       "      <td>NaN</td>\n",
       "      <td>NaN</td>\n",
       "      <td>105.4</td>\n",
       "    </tr>\n",
       "    <tr>\n",
       "      <th>1</th>\n",
       "      <td>1984-07-01</td>\n",
       "      <td>104.8</td>\n",
       "      <td>100.3</td>\n",
       "      <td>102.7</td>\n",
       "      <td>105.4</td>\n",
       "      <td>NaN</td>\n",
       "      <td>NaN</td>\n",
       "      <td>109.0</td>\n",
       "    </tr>\n",
       "    <tr>\n",
       "      <th>2</th>\n",
       "      <td>1985-01-01</td>\n",
       "      <td>104.9</td>\n",
       "      <td>100.2</td>\n",
       "      <td>104.1</td>\n",
       "      <td>105.4</td>\n",
       "      <td>NaN</td>\n",
       "      <td>NaN</td>\n",
       "      <td>111.1</td>\n",
       "    </tr>\n",
       "    <tr>\n",
       "      <th>3</th>\n",
       "      <td>1985-07-01</td>\n",
       "      <td>105.0</td>\n",
       "      <td>100.1</td>\n",
       "      <td>104.7</td>\n",
       "      <td>106.9</td>\n",
       "      <td>NaN</td>\n",
       "      <td>NaN</td>\n",
       "      <td>113.9</td>\n",
       "    </tr>\n",
       "    <tr>\n",
       "      <th>4</th>\n",
       "      <td>1986-01-01</td>\n",
       "      <td>106.4</td>\n",
       "      <td>98.5</td>\n",
       "      <td>105.8</td>\n",
       "      <td>101.2</td>\n",
       "      <td>NaN</td>\n",
       "      <td>NaN</td>\n",
       "      <td>116.7</td>\n",
       "    </tr>\n",
       "  </tbody>\n",
       "</table>\n",
       "</div>"
      ],
      "text/plain": [
       "        DATE  FOOD_BEVERAGES  HOUSING  APPAREL  TRANSPORTATION  RECREATION  \\\n",
       "0 1984-01-01           103.8     99.5    101.0           101.2         NaN   \n",
       "1 1984-07-01           104.8    100.3    102.7           105.4         NaN   \n",
       "2 1985-01-01           104.9    100.2    104.1           105.4         NaN   \n",
       "3 1985-07-01           105.0    100.1    104.7           106.9         NaN   \n",
       "4 1986-01-01           106.4     98.5    105.8           101.2         NaN   \n",
       "\n",
       "   EDUCATION  OTHER_SERVICES  \n",
       "0        NaN           105.4  \n",
       "1        NaN           109.0  \n",
       "2        NaN           111.1  \n",
       "3        NaN           113.9  \n",
       "4        NaN           116.7  "
      ]
     },
     "execution_count": 11,
     "metadata": {},
     "output_type": "execute_result"
    }
   ],
   "source": [
    "TX.head()"
   ]
  },
  {
   "cell_type": "code",
   "execution_count": 12,
   "id": "2498ac01",
   "metadata": {},
   "outputs": [
    {
     "data": {
      "application/vnd.microsoft.datawrangler.viewer.v0+json": {
       "columns": [
        {
         "name": "index",
         "rawType": "int64",
         "type": "integer"
        },
        {
         "name": "DATE",
         "rawType": "datetime64[ns]",
         "type": "datetime"
        },
        {
         "name": "FOOD_BEVERAGES",
         "rawType": "float64",
         "type": "float"
        },
        {
         "name": "HOUSING",
         "rawType": "float64",
         "type": "float"
        },
        {
         "name": "APPAREL",
         "rawType": "float64",
         "type": "float"
        },
        {
         "name": "TRANSPORTATION",
         "rawType": "float64",
         "type": "float"
        },
        {
         "name": "RECREATION",
         "rawType": "float64",
         "type": "float"
        },
        {
         "name": "EDUCATION",
         "rawType": "float64",
         "type": "float"
        },
        {
         "name": "OTHER_SERVICES",
         "rawType": "float64",
         "type": "float"
        }
       ],
       "ref": "a3590854-e93d-4952-b95b-ec7376fee932",
       "rows": [
        [
         "75",
         "2021-07-01 00:00:00",
         "250.054",
         "238.256",
         "174.596",
         "203.996",
         "115.232",
         "123.996",
         "429.488"
        ],
        [
         "76",
         "2022-01-01 00:00:00",
         "264.554",
         "246.137",
         "179.275",
         "230.834",
         "124.382",
         "123.438",
         "440.148"
        ],
        [
         "77",
         "2022-07-01 00:00:00",
         "281.569",
         "254.726",
         "177.29",
         "230.667",
         "128.353",
         "120.527",
         "446.982"
        ],
        [
         "78",
         "2023-01-01 00:00:00",
         "289.825",
         "259.317",
         "175.647",
         "228.958",
         "130.354",
         "121.141",
         "469.14"
        ],
        [
         "79",
         "2023-07-01 00:00:00",
         "295.901",
         "266.069",
         "180.155",
         "235.16",
         "128.259",
         "120.499",
         "480.83"
        ]
       ],
       "shape": {
        "columns": 8,
        "rows": 5
       }
      },
      "text/html": [
       "<div>\n",
       "<style scoped>\n",
       "    .dataframe tbody tr th:only-of-type {\n",
       "        vertical-align: middle;\n",
       "    }\n",
       "\n",
       "    .dataframe tbody tr th {\n",
       "        vertical-align: top;\n",
       "    }\n",
       "\n",
       "    .dataframe thead th {\n",
       "        text-align: right;\n",
       "    }\n",
       "</style>\n",
       "<table border=\"1\" class=\"dataframe\">\n",
       "  <thead>\n",
       "    <tr style=\"text-align: right;\">\n",
       "      <th></th>\n",
       "      <th>DATE</th>\n",
       "      <th>FOOD_BEVERAGES</th>\n",
       "      <th>HOUSING</th>\n",
       "      <th>APPAREL</th>\n",
       "      <th>TRANSPORTATION</th>\n",
       "      <th>RECREATION</th>\n",
       "      <th>EDUCATION</th>\n",
       "      <th>OTHER_SERVICES</th>\n",
       "    </tr>\n",
       "  </thead>\n",
       "  <tbody>\n",
       "    <tr>\n",
       "      <th>75</th>\n",
       "      <td>2021-07-01</td>\n",
       "      <td>250.054</td>\n",
       "      <td>238.256</td>\n",
       "      <td>174.596</td>\n",
       "      <td>203.996</td>\n",
       "      <td>115.232</td>\n",
       "      <td>123.996</td>\n",
       "      <td>429.488</td>\n",
       "    </tr>\n",
       "    <tr>\n",
       "      <th>76</th>\n",
       "      <td>2022-01-01</td>\n",
       "      <td>264.554</td>\n",
       "      <td>246.137</td>\n",
       "      <td>179.275</td>\n",
       "      <td>230.834</td>\n",
       "      <td>124.382</td>\n",
       "      <td>123.438</td>\n",
       "      <td>440.148</td>\n",
       "    </tr>\n",
       "    <tr>\n",
       "      <th>77</th>\n",
       "      <td>2022-07-01</td>\n",
       "      <td>281.569</td>\n",
       "      <td>254.726</td>\n",
       "      <td>177.290</td>\n",
       "      <td>230.667</td>\n",
       "      <td>128.353</td>\n",
       "      <td>120.527</td>\n",
       "      <td>446.982</td>\n",
       "    </tr>\n",
       "    <tr>\n",
       "      <th>78</th>\n",
       "      <td>2023-01-01</td>\n",
       "      <td>289.825</td>\n",
       "      <td>259.317</td>\n",
       "      <td>175.647</td>\n",
       "      <td>228.958</td>\n",
       "      <td>130.354</td>\n",
       "      <td>121.141</td>\n",
       "      <td>469.140</td>\n",
       "    </tr>\n",
       "    <tr>\n",
       "      <th>79</th>\n",
       "      <td>2023-07-01</td>\n",
       "      <td>295.901</td>\n",
       "      <td>266.069</td>\n",
       "      <td>180.155</td>\n",
       "      <td>235.160</td>\n",
       "      <td>128.259</td>\n",
       "      <td>120.499</td>\n",
       "      <td>480.830</td>\n",
       "    </tr>\n",
       "  </tbody>\n",
       "</table>\n",
       "</div>"
      ],
      "text/plain": [
       "         DATE  FOOD_BEVERAGES  HOUSING  APPAREL  TRANSPORTATION  RECREATION  \\\n",
       "75 2021-07-01         250.054  238.256  174.596         203.996     115.232   \n",
       "76 2022-01-01         264.554  246.137  179.275         230.834     124.382   \n",
       "77 2022-07-01         281.569  254.726  177.290         230.667     128.353   \n",
       "78 2023-01-01         289.825  259.317  175.647         228.958     130.354   \n",
       "79 2023-07-01         295.901  266.069  180.155         235.160     128.259   \n",
       "\n",
       "    EDUCATION  OTHER_SERVICES  \n",
       "75    123.996         429.488  \n",
       "76    123.438         440.148  \n",
       "77    120.527         446.982  \n",
       "78    121.141         469.140  \n",
       "79    120.499         480.830  "
      ]
     },
     "execution_count": 12,
     "metadata": {},
     "output_type": "execute_result"
    }
   ],
   "source": [
    "TX.tail()"
   ]
  },
  {
   "cell_type": "markdown",
   "id": "e4884e2b",
   "metadata": {},
   "source": [
    "Within the following code cell, a very interesting interactive widget is embedded. Running the code cell will plot a graph displaying the CPI indexes spread over years for all the different categories, and selecting the Metropolitan areas from the widget dropdown menu updates the graph dynamically."
   ]
  },
  {
   "cell_type": "code",
   "execution_count": 13,
   "id": "7e0df3ce",
   "metadata": {},
   "outputs": [
    {
     "data": {
      "application/vnd.jupyter.widget-view+json": {
       "model_id": "1e56a4967a3a4558992de4c83940230a",
       "version_major": 2,
       "version_minor": 0
      },
      "text/plain": [
       "interactive(children=(Dropdown(description='Met Area', options=('Anchorage, AK', 'Chicago-Gary-Kenosha, IL-IN-…"
      ]
     },
     "metadata": {},
     "output_type": "display_data"
    },
    {
     "data": {
      "text/plain": [
       "<function __main__.plot_data(df_name)>"
      ]
     },
     "execution_count": 13,
     "metadata": {},
     "output_type": "execute_result"
    }
   ],
   "source": [
    "met_area_df = {'Anchorage, AK' : AK,\n",
    "             'Chicago-Gary-Kenosha, IL-IN-WI' : IL_IN_WI,\\\n",
    "             'Detroit-Ann Arbor-Flint, MI' : MI,\\\n",
    "             'Houston-Galveston-Brazoria, TX' : TX,\\\n",
    "             'Kansas City, MO-KS' : MO_KS,\\\n",
    "             'Los Angeles-Riverside-Orange County, CA' : CA1,\\\n",
    "             'Miami-Fort Lauderdale, FL' : FL,\\\n",
    "             'New York-Northern New Jersey-Long Island, NY-NJ-CT-PA' : NY_NJ_CT_PA,\\\n",
    "             'Philadelphia-Wilmington-Atlantic City, PA-NJ-DE-MD' : PA_NJ_DE_MD,\\\n",
    "             'Pittsburgh, PA' : PA,\\\n",
    "             'San Francisco-Oakland-San Jose, CA' : CA2,\\\n",
    "             'Seattle-Tacoma-Bremerton, WA' : WA,\\\n",
    "             'St. Louis, MO-IL' : MO_IL,\\\n",
    "             'Atlanta, GA' : GA}\n",
    "\n",
    "def plot_data(df_name):\n",
    "    df = met_area_df[df_name]\n",
    "    plt.figure(figsize=(15, 7))\n",
    "    plt.plot(df['DATE'], df['FOOD_BEVERAGES'], label = 'Food and Beverages')\n",
    "    plt.plot(df['DATE'], df['HOUSING'], label = 'Housing')\n",
    "    plt.plot(df['DATE'], df['APPAREL'], label = 'Apparel')\n",
    "    plt.plot(df['DATE'], df['TRANSPORTATION'], label = 'Transportation')\n",
    "    plt.plot(df['DATE'], df['RECREATION'], label = 'Recreation')\n",
    "    plt.plot(df['DATE'], df['EDUCATION'], label = 'Education')\n",
    "    plt.plot(df['DATE'], df['OTHER_SERVICES'], label = 'Other Services')\n",
    "    plt.title(f'CPI-U for {df_name} Metropolitan Area')\n",
    "    plt.xlim(df['DATE'].min(), df['DATE'].max())\n",
    "    plt.legend()\n",
    "    plt.xlabel(\"Year\")\n",
    "    plt.ylabel(\"Index 1982 - 1984 = 100\")\n",
    "    plt.show()\n",
    "    \n",
    "dropdown = Dropdown(options = met_area_df.keys(), description = 'Met Area')\n",
    "interact(plot_data, df_name = dropdown)"
   ]
  },
  {
   "cell_type": "markdown",
   "id": "62b98ee1",
   "metadata": {},
   "source": [
    "### Principal Component Analysis and Single Value Decomposition to Analyze the Metropolitan Areas during Barack Obama’s Term as President"
   ]
  },
  {
   "cell_type": "markdown",
   "id": "0ae54a9c",
   "metadata": {},
   "source": [
    "Barack Obama’s tenure as the $44^{th}$ president of the United States began with his first inauguration on January 20, 2009, and ended on January 20, 2017.\n",
    "\n",
    "The following code cell pulls from all the Metropolitan DataFrames the CPI index on January-01-2009 and creates a new DataFrame called ```obama_2009```.\n",
    "\n",
    "**Note: The column names for the Metropolitan DataFrames have now become one of the columns, while the rest of the columns are the areas itself. The values are of CPI indexes from January 2009.**"
   ]
  },
  {
   "cell_type": "code",
   "execution_count": 14,
   "id": "53d4f858",
   "metadata": {},
   "outputs": [
    {
     "data": {
      "application/vnd.microsoft.datawrangler.viewer.v0+json": {
       "columns": [
        {
         "name": "index",
         "rawType": "int64",
         "type": "integer"
        },
        {
         "name": "items",
         "rawType": "object",
         "type": "string"
        },
        {
         "name": "Anchorage, AK",
         "rawType": "float64",
         "type": "float"
        },
        {
         "name": "Chicago-Gary-Kenosha, IL-IN-WI",
         "rawType": "float64",
         "type": "float"
        },
        {
         "name": "Detroit-Ann Arbor-Flint, MI",
         "rawType": "float64",
         "type": "float"
        },
        {
         "name": "Houston-Galveston-Brazoria, TX",
         "rawType": "float64",
         "type": "float"
        },
        {
         "name": "Kansas City, MO-KS",
         "rawType": "float64",
         "type": "float"
        },
        {
         "name": "Los Angeles-Riverside-Orange County, CA",
         "rawType": "float64",
         "type": "float"
        },
        {
         "name": "Miami-Fort Lauderdale, FL",
         "rawType": "float64",
         "type": "float"
        },
        {
         "name": "New York-Northern New Jersey-Long Island, NY-NJ-CT-PA",
         "rawType": "float64",
         "type": "float"
        },
        {
         "name": "Philadelphia-Wilmington-Atlantic City, PA-NJ-DE-MD",
         "rawType": "float64",
         "type": "float"
        },
        {
         "name": "Pittsburgh, PA",
         "rawType": "float64",
         "type": "float"
        },
        {
         "name": "San Francisco-Oakland-San Jose, CA",
         "rawType": "float64",
         "type": "float"
        },
        {
         "name": "Seattle-Tacoma-Bremerton, WA",
         "rawType": "float64",
         "type": "float"
        },
        {
         "name": "St. Louis, MO-IL",
         "rawType": "float64",
         "type": "float"
        },
        {
         "name": "Atlanta, GA",
         "rawType": "float64",
         "type": "float"
        }
       ],
       "ref": "5c736585-b063-46cf-bdc1-9a7c2f693151",
       "rows": [
        [
         "0",
         "Food and Beverages",
         "192.649",
         "215.12",
         "199.29",
         "200.89",
         "217.153",
         "223.88",
         "225.939",
         "228.188",
         "207.144",
         "217.638",
         "228.28",
         "231.498",
         "210.452",
         "219.561"
        ],
        [
         "1",
         "Housing",
         "172.688",
         "213.86",
         "191.345",
         "184.357",
         "192.955",
         "244.823",
         "228.929",
         "256.927",
         "231.247",
         "212.925",
         "246.353",
         "241.473",
         "189.596",
         "201.21"
        ],
        [
         "2",
         "Apparel",
         "132.372",
         "92.928",
         "108.823",
         "143.427",
         "108.665",
         "107.175",
         "138.664",
         "112.646",
         "101.574",
         "148.338",
         "112.37",
         "133.801",
         "131.624",
         "123.042"
        ],
        [
         "3",
         "Transportation",
         "184.671",
         "164.238",
         "198.519",
         "151.019",
         "168.554",
         "171.951",
         "183.06",
         "183.379",
         "174.981",
         "155.372",
         "161.261",
         "193.456",
         "166.161",
         "161.583"
        ],
        [
         "4",
         "Recreation",
         "119.859",
         "111.928",
         "118.241",
         "109.096",
         "124.055",
         "113.8",
         "119.593",
         "116.689",
         "122.995",
         "116.543",
         "106.41",
         "97.954",
         "119.765",
         "106.53"
        ],
        [
         "5",
         "Education",
         "109.839",
         "135.654",
         "132.644",
         "111.007",
         "120.085",
         "128.845",
         "115.002",
         "133.641",
         "127.949",
         "135.103",
         "137.182",
         "125.68",
         "132.446",
         "116.236"
        ],
        [
         "6",
         "Other Services",
         "297.469",
         "345.023",
         "365.084",
         "315.703",
         "340.63",
         "350.933",
         "285.27",
         "355.782",
         "402.705",
         "361.697",
         "383.873",
         "363.221",
         "286.939",
         "301.245"
        ]
       ],
       "shape": {
        "columns": 15,
        "rows": 7
       }
      },
      "text/html": [
       "<div>\n",
       "<style scoped>\n",
       "    .dataframe tbody tr th:only-of-type {\n",
       "        vertical-align: middle;\n",
       "    }\n",
       "\n",
       "    .dataframe tbody tr th {\n",
       "        vertical-align: top;\n",
       "    }\n",
       "\n",
       "    .dataframe thead th {\n",
       "        text-align: right;\n",
       "    }\n",
       "</style>\n",
       "<table border=\"1\" class=\"dataframe\">\n",
       "  <thead>\n",
       "    <tr style=\"text-align: right;\">\n",
       "      <th></th>\n",
       "      <th>items</th>\n",
       "      <th>Anchorage, AK</th>\n",
       "      <th>Chicago-Gary-Kenosha, IL-IN-WI</th>\n",
       "      <th>Detroit-Ann Arbor-Flint, MI</th>\n",
       "      <th>Houston-Galveston-Brazoria, TX</th>\n",
       "      <th>Kansas City, MO-KS</th>\n",
       "      <th>Los Angeles-Riverside-Orange County, CA</th>\n",
       "      <th>Miami-Fort Lauderdale, FL</th>\n",
       "      <th>New York-Northern New Jersey-Long Island, NY-NJ-CT-PA</th>\n",
       "      <th>Philadelphia-Wilmington-Atlantic City, PA-NJ-DE-MD</th>\n",
       "      <th>Pittsburgh, PA</th>\n",
       "      <th>San Francisco-Oakland-San Jose, CA</th>\n",
       "      <th>Seattle-Tacoma-Bremerton, WA</th>\n",
       "      <th>St. Louis, MO-IL</th>\n",
       "      <th>Atlanta, GA</th>\n",
       "    </tr>\n",
       "  </thead>\n",
       "  <tbody>\n",
       "    <tr>\n",
       "      <th>0</th>\n",
       "      <td>Food and Beverages</td>\n",
       "      <td>192.649</td>\n",
       "      <td>215.120</td>\n",
       "      <td>199.290</td>\n",
       "      <td>200.890</td>\n",
       "      <td>217.153</td>\n",
       "      <td>223.880</td>\n",
       "      <td>225.939</td>\n",
       "      <td>228.188</td>\n",
       "      <td>207.144</td>\n",
       "      <td>217.638</td>\n",
       "      <td>228.280</td>\n",
       "      <td>231.498</td>\n",
       "      <td>210.452</td>\n",
       "      <td>219.561</td>\n",
       "    </tr>\n",
       "    <tr>\n",
       "      <th>1</th>\n",
       "      <td>Housing</td>\n",
       "      <td>172.688</td>\n",
       "      <td>213.860</td>\n",
       "      <td>191.345</td>\n",
       "      <td>184.357</td>\n",
       "      <td>192.955</td>\n",
       "      <td>244.823</td>\n",
       "      <td>228.929</td>\n",
       "      <td>256.927</td>\n",
       "      <td>231.247</td>\n",
       "      <td>212.925</td>\n",
       "      <td>246.353</td>\n",
       "      <td>241.473</td>\n",
       "      <td>189.596</td>\n",
       "      <td>201.210</td>\n",
       "    </tr>\n",
       "    <tr>\n",
       "      <th>2</th>\n",
       "      <td>Apparel</td>\n",
       "      <td>132.372</td>\n",
       "      <td>92.928</td>\n",
       "      <td>108.823</td>\n",
       "      <td>143.427</td>\n",
       "      <td>108.665</td>\n",
       "      <td>107.175</td>\n",
       "      <td>138.664</td>\n",
       "      <td>112.646</td>\n",
       "      <td>101.574</td>\n",
       "      <td>148.338</td>\n",
       "      <td>112.370</td>\n",
       "      <td>133.801</td>\n",
       "      <td>131.624</td>\n",
       "      <td>123.042</td>\n",
       "    </tr>\n",
       "    <tr>\n",
       "      <th>3</th>\n",
       "      <td>Transportation</td>\n",
       "      <td>184.671</td>\n",
       "      <td>164.238</td>\n",
       "      <td>198.519</td>\n",
       "      <td>151.019</td>\n",
       "      <td>168.554</td>\n",
       "      <td>171.951</td>\n",
       "      <td>183.060</td>\n",
       "      <td>183.379</td>\n",
       "      <td>174.981</td>\n",
       "      <td>155.372</td>\n",
       "      <td>161.261</td>\n",
       "      <td>193.456</td>\n",
       "      <td>166.161</td>\n",
       "      <td>161.583</td>\n",
       "    </tr>\n",
       "    <tr>\n",
       "      <th>4</th>\n",
       "      <td>Recreation</td>\n",
       "      <td>119.859</td>\n",
       "      <td>111.928</td>\n",
       "      <td>118.241</td>\n",
       "      <td>109.096</td>\n",
       "      <td>124.055</td>\n",
       "      <td>113.800</td>\n",
       "      <td>119.593</td>\n",
       "      <td>116.689</td>\n",
       "      <td>122.995</td>\n",
       "      <td>116.543</td>\n",
       "      <td>106.410</td>\n",
       "      <td>97.954</td>\n",
       "      <td>119.765</td>\n",
       "      <td>106.530</td>\n",
       "    </tr>\n",
       "    <tr>\n",
       "      <th>5</th>\n",
       "      <td>Education</td>\n",
       "      <td>109.839</td>\n",
       "      <td>135.654</td>\n",
       "      <td>132.644</td>\n",
       "      <td>111.007</td>\n",
       "      <td>120.085</td>\n",
       "      <td>128.845</td>\n",
       "      <td>115.002</td>\n",
       "      <td>133.641</td>\n",
       "      <td>127.949</td>\n",
       "      <td>135.103</td>\n",
       "      <td>137.182</td>\n",
       "      <td>125.680</td>\n",
       "      <td>132.446</td>\n",
       "      <td>116.236</td>\n",
       "    </tr>\n",
       "    <tr>\n",
       "      <th>6</th>\n",
       "      <td>Other Services</td>\n",
       "      <td>297.469</td>\n",
       "      <td>345.023</td>\n",
       "      <td>365.084</td>\n",
       "      <td>315.703</td>\n",
       "      <td>340.630</td>\n",
       "      <td>350.933</td>\n",
       "      <td>285.270</td>\n",
       "      <td>355.782</td>\n",
       "      <td>402.705</td>\n",
       "      <td>361.697</td>\n",
       "      <td>383.873</td>\n",
       "      <td>363.221</td>\n",
       "      <td>286.939</td>\n",
       "      <td>301.245</td>\n",
       "    </tr>\n",
       "  </tbody>\n",
       "</table>\n",
       "</div>"
      ],
      "text/plain": [
       "                items  Anchorage, AK  Chicago-Gary-Kenosha, IL-IN-WI  \\\n",
       "0  Food and Beverages        192.649                         215.120   \n",
       "1             Housing        172.688                         213.860   \n",
       "2             Apparel        132.372                          92.928   \n",
       "3      Transportation        184.671                         164.238   \n",
       "4          Recreation        119.859                         111.928   \n",
       "5           Education        109.839                         135.654   \n",
       "6      Other Services        297.469                         345.023   \n",
       "\n",
       "   Detroit-Ann Arbor-Flint, MI  Houston-Galveston-Brazoria, TX  \\\n",
       "0                      199.290                         200.890   \n",
       "1                      191.345                         184.357   \n",
       "2                      108.823                         143.427   \n",
       "3                      198.519                         151.019   \n",
       "4                      118.241                         109.096   \n",
       "5                      132.644                         111.007   \n",
       "6                      365.084                         315.703   \n",
       "\n",
       "   Kansas City, MO-KS  Los Angeles-Riverside-Orange County, CA  \\\n",
       "0             217.153                                  223.880   \n",
       "1             192.955                                  244.823   \n",
       "2             108.665                                  107.175   \n",
       "3             168.554                                  171.951   \n",
       "4             124.055                                  113.800   \n",
       "5             120.085                                  128.845   \n",
       "6             340.630                                  350.933   \n",
       "\n",
       "   Miami-Fort Lauderdale, FL  \\\n",
       "0                    225.939   \n",
       "1                    228.929   \n",
       "2                    138.664   \n",
       "3                    183.060   \n",
       "4                    119.593   \n",
       "5                    115.002   \n",
       "6                    285.270   \n",
       "\n",
       "   New York-Northern New Jersey-Long Island, NY-NJ-CT-PA  \\\n",
       "0                                            228.188       \n",
       "1                                            256.927       \n",
       "2                                            112.646       \n",
       "3                                            183.379       \n",
       "4                                            116.689       \n",
       "5                                            133.641       \n",
       "6                                            355.782       \n",
       "\n",
       "   Philadelphia-Wilmington-Atlantic City, PA-NJ-DE-MD  Pittsburgh, PA  \\\n",
       "0                                            207.144          217.638   \n",
       "1                                            231.247          212.925   \n",
       "2                                            101.574          148.338   \n",
       "3                                            174.981          155.372   \n",
       "4                                            122.995          116.543   \n",
       "5                                            127.949          135.103   \n",
       "6                                            402.705          361.697   \n",
       "\n",
       "   San Francisco-Oakland-San Jose, CA  Seattle-Tacoma-Bremerton, WA  \\\n",
       "0                             228.280                       231.498   \n",
       "1                             246.353                       241.473   \n",
       "2                             112.370                       133.801   \n",
       "3                             161.261                       193.456   \n",
       "4                             106.410                        97.954   \n",
       "5                             137.182                       125.680   \n",
       "6                             383.873                       363.221   \n",
       "\n",
       "   St. Louis, MO-IL  Atlanta, GA  \n",
       "0           210.452      219.561  \n",
       "1           189.596      201.210  \n",
       "2           131.624      123.042  \n",
       "3           166.161      161.583  \n",
       "4           119.765      106.530  \n",
       "5           132.446      116.236  \n",
       "6           286.939      301.245  "
      ]
     },
     "execution_count": 14,
     "metadata": {},
     "output_type": "execute_result"
    }
   ],
   "source": [
    "obama_2009_ = []\n",
    "\n",
    "for area in met_areas:\n",
    "    aT = area.set_index('DATE', drop = True).T\n",
    "    obama_2009_.append(aT['2009-01-01'].values)\n",
    "    \n",
    "obama_2009 = pd.DataFrame(obama_2009_,\n",
    "                          index = met_area_df.keys(), \n",
    "                          columns = ['Food and Beverages', 'Housing', 'Apparel', \n",
    "                                     'Transportation', 'Recreation', 'Education', 'Other Services'])\n",
    "obama_2009 = obama_2009.T\n",
    "obama_2009.reset_index(inplace = True)\n",
    "obama_2009.rename(columns = {'index' : 'items'}, inplace = True)\n",
    "obama_2009"
   ]
  },
  {
   "cell_type": "markdown",
   "id": "913168c6",
   "metadata": {},
   "source": [
    "Principal Component Analysis (PCA) will be used to analyze the data. The first step involves transforming the data so that it has a mean of zero."
   ]
  },
  {
   "cell_type": "code",
   "execution_count": 15,
   "id": "3d8bdc7e",
   "metadata": {},
   "outputs": [],
   "source": [
    "obama_2009_raw = obama_2009[met_area_df.keys()].values.T\n",
    "obama_2009_X = obama_2009_raw - np.mean(obama_2009_raw, axis = 0)"
   ]
  },
  {
   "cell_type": "markdown",
   "id": "31904c69",
   "metadata": {},
   "source": [
    "Use Numpy’s ```linalg.svd``` function to calculate ```U```, ```Sigma``` and ```VT```."
   ]
  },
  {
   "cell_type": "code",
   "execution_count": 16,
   "id": "0e1b8b50",
   "metadata": {},
   "outputs": [],
   "source": [
    "U, Sigma, VT = np.linalg.svd(obama_2009_X, full_matrices = False)"
   ]
  },
  {
   "cell_type": "markdown",
   "id": "f5a8dd3b",
   "metadata": {},
   "source": [
    "Note the shape of ```Sigma```. Numpy stores a diagonal matrix as a vector for efficiency."
   ]
  },
  {
   "cell_type": "code",
   "execution_count": 17,
   "id": "239cd082",
   "metadata": {},
   "outputs": [
    {
     "name": "stdout",
     "output_type": "stream",
     "text": [
      "U: (14, 7)\n",
      "Sigma: (7,)\n",
      "VT: (7, 7)\n"
     ]
    }
   ],
   "source": [
    "print('U:', U.shape)\n",
    "print('Sigma:', Sigma.shape)\n",
    "print('VT:', VT.shape)"
   ]
  },
  {
   "cell_type": "markdown",
   "id": "b98c395f",
   "metadata": {},
   "source": [
    "Next we plot the graph of reduced axes where, in the earlier cells, PCA and SVD were used to compress the dimensions of the data from 7 (that is 7 categories of the CPI) to 2."
   ]
  },
  {
   "cell_type": "code",
   "execution_count": 18,
   "id": "c7cb9e53",
   "metadata": {},
   "outputs": [
    {
     "data": {
      "image/png": "[encoded data removed]",
      "text/plain": [
       "<Figure size 800x800 with 1 Axes>"
      ]
     },
     "metadata": {},
     "output_type": "display_data"
    }
   ],
   "source": [
    "# Project into 2-D\n",
    "obama_2009_Y_k = obama_2009_X.dot(VT[0:2, :].T)\n",
    "\n",
    "# Plot\n",
    "fig = plt.figure(figsize=(8, 8))\n",
    "plt.scatter(obama_2009_Y_k[:, 0], obama_2009_Y_k[:, 1])\n",
    "plt.axhline(0, linestyle='--')\n",
    "plt.axvline(0, linestyle='--')\n",
    "plt.title('\\nCPI distribution during Obama Presidency 2009\\n')\n",
    "for x, y, label in zip(obama_2009_Y_k[:, 0], obama_2009_Y_k[:, 1], met_area_df.keys()):\n",
    "    plt.annotate(label, xy=(x, y))"
   ]
  },
  {
   "cell_type": "markdown",
   "id": "658ea2d8",
   "metadata": {},
   "source": [
    "Based on the plot, here are some observations:\n",
    "\n",
    "- Distribution of CPI Indexes: There is a wide distribution of mean-centered CPI indexes among different metropolitan areas, indicating variability in cost of living adjustments during 2009.\n",
    "\n",
    "- Positive Values: Cities like Miami-Fort Lauderdale, FL, and New York-Northern New Jersey-Long Island, NY-NJ-CT-PA have positive values, suggesting higher CPI indexes relative to the mean.\n",
    "\n",
    "- Negative Values: Conversely, Detroit-Ann Arbor-Flint, MI and Philadelphia-Wilmington-Atlantic City, PA-NJ-DE-MD show negative values, indicating lower CPI indexes relative to the mean.\n",
    "\n",
    "- Quadrant Analysis: The spread of cities across all four quadrants of the plot reflects the diverse economic landscapes and cost of living differences across the United States during that period.\n",
    "\n",
    "These insights could be valuable for understanding regional economic trends and policy-making.\n",
    "The analysis for January 2017 data can be calculated in the same way."
   ]
  },
  {
   "cell_type": "code",
   "execution_count": 19,
   "id": "4d6a8244",
   "metadata": {},
   "outputs": [
    {
     "data": {
      "image/png": "[encoded data removed]",
      "text/plain": [
       "<Figure size 800x800 with 1 Axes>"
      ]
     },
     "metadata": {},
     "output_type": "display_data"
    }
   ],
   "source": [
    "# OBAMA 2017\n",
    "\n",
    "obama_2017_ = []\n",
    "\n",
    "for area in met_areas:\n",
    "    aT = area.set_index('DATE', drop = True).T\n",
    "    obama_2017_.append(aT['2017-01-01'].values)\n",
    "    \n",
    "obama_2017 = pd.DataFrame(obama_2017_,\n",
    "                          index = met_area_df.keys(), \n",
    "                          columns = ['Food and Beverages', 'Housing', 'Apparel', \n",
    "                                     'Transportation', 'Recreation', 'Education', 'Other Services'])\n",
    "obama_2017 = obama_2017.T\n",
    "obama_2017.reset_index(inplace = True)\n",
    "obama_2017.rename(columns = {'index' : 'items'}, inplace = True)\n",
    "\n",
    "obama_2017_raw = obama_2017[met_area_df.keys()].values.T\n",
    "obama_2017_X = obama_2017_raw - np.mean(obama_2017_raw, axis = 0)\n",
    "\n",
    "U_, Sigma_, VT_ = np.linalg.svd(obama_2017_X, full_matrices = False)\n",
    "\n",
    "obama_2017_Y_k = obama_2017_X.dot(VT_[0:2, :].T)\n",
    "\n",
    "# Plot\n",
    "plt.figure(figsize=(8, 8))\n",
    "plt.scatter(obama_2017_Y_k[:, 0], obama_2017_Y_k[:, 1])\n",
    "plt.axhline(0, linestyle='--')\n",
    "plt.axvline(0, linestyle='--')\n",
    "plt.title('\\nCPI distribution during Obama Presidency 2017\\n')\n",
    "for x, y, label in zip(obama_2017_Y_k[:, 0], obama_2017_Y_k[:, 1], met_area_df.keys()):\n",
    "    plt.annotate(label, xy=(x, y))"
   ]
  },
  {
   "cell_type": "markdown",
   "id": "d799e207",
   "metadata": {},
   "source": [
    "### Observations"
   ]
  },
  {
   "cell_type": "markdown",
   "id": "4126255a",
   "metadata": {},
   "source": [
    "Here are some key observations:\n",
    "\n",
    "- Shift in Distribution: Some cities have shifted quadrants between 2009 and 2017, indicating changes in their relative CPI indexes.\n",
    "\n",
    "- Notable Changes:\n",
    "\n",
    "- Miami-Fort Lauderdale, FL, and Los Angeles-Riverside-Orange County, CA moved from positive to negative quadrants, suggesting a decrease in CPI indexes relative to the mean.\n",
    "\n",
    "- Houston-Galveston-Brazoria, TX, and Philadelphia-Wilmington-Atlantic City, PA-NJ-DE-MD moved to positive quadrants, indicating an increase in CPI indexes relative to the mean.\n",
    "\n",
    "- Atlanta, GA and St. Louis, MO-IL: Remains near zero on the x-axis in both plots, showing consistency in its CPI index relative to the mean.\n",
    "\n",
    "- Scale Difference: The x-axis range has expanded in the 2017 plot, which could imply a greater spread in the data or a change in the scale of measurement.\n",
    "\n",
    "These observations can provide insights into the economic changes and cost of living adjustments that occurred between 2009 and 2017. It’s important to consider other economic factors that might have influenced these changes when interpreting the plots."
   ]
  },
  {
   "cell_type": "markdown",
   "id": "88bfd281",
   "metadata": {},
   "source": [
    "### Future Research\n",
    "\n",
    "With the data in hand, it would be an interesting project to explore the various political factors that affect these changes. For example, how does political party of a Presidential candidate affect the CPI values. So far we have looked at major metropolitan areas in the U.S., what does the data look like internationally when there are more than two major political parties?"
   ]
  },
  {
   "cell_type": "markdown",
   "id": "3a5cf394",
   "metadata": {},
   "source": [
    "### References\n",
    "\n",
    "[1] [Consumer prices up 3.5 percent from March 2023 to March 2024.](https://www.bls.gov/opub/ted/2024/consumer-prices-up-3-5-percent-from-march-2023-to-march-2024.htm) April 17, 2024\n",
    "\n",
    "[2] [U.S. import prices up 0.4 percent over the year ended March 2024.](https://www.bls.gov/opub/ted/2024/u-s-import-prices-up-0-4-percent-over-the-year-ended-march-2024.htm) April 22, 2024"
   ]
  }
 ],
 "metadata": {
  "kernelspec": {
   "display_name": "Python 3",
   "language": "python",
   "name": "python3"
  },
  "language_info": {
   "codemirror_mode": {
    "name": "ipython",
    "version": 3
   },
   "file_extension": ".py",
   "mimetype": "text/x-python",
   "name": "python",
   "nbconvert_exporter": "python",
   "pygments_lexer": "ipython3",
   "version": "3.13.3"
  }
 },
 "nbformat": 4,
 "nbformat_minor": 5
}
