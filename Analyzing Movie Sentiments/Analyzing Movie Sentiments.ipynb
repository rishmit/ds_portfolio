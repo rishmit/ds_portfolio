{
 "cells": [
  {
   "cell_type": "markdown",
   "metadata": {},
   "source": [
    "# Analyzing Movie Sentiments"
   ]
  },
  {
   "cell_type": "markdown",
   "metadata": {},
   "source": [
    "Movies released over the years have been a way to help human mind escape their mundane life. While serving as a source of entertainment, a movie’s rating tells us about the success or failure, and a description of the movie gives us an insight into what to expect. While we can understand what to expect from the movie, how does it correlated to the audience reaction?\n",
    "\n",
    "Sentiment Analysis [1], also known as opinion mining is a major topic in machine learning which aims to capture the subjective information from textual basis. Sentiment analysis is an application of natural language processing (NLP) technologies that train computer software to understand text in ways similar to humans. NLP aims to subjectively comprehend texts as being positive, negative or neutral. Some models may even be used to classify as sad, joy, happy, and other human emotions.\n",
    "\n",
    "This project aims to build a comprehensive sentiment analysis on over 16k movie descriptions and correlate the findings with Metacritic ratings. The aim is to understand the effect of movie description on the audience reaction."
   ]
  },
  {
   "cell_type": "markdown",
   "metadata": {},
   "source": [
    "## Methodology"
   ]
  },
  {
   "cell_type": "markdown",
   "metadata": {},
   "source": [
    "The project will utilize Natural Language Processing (NLP) technique to analyze the movie descriptions. Of the many NLP Python libraries available, this project will use the Hugging Face Transformer [2]. Hugging Face is most notable for its transformers library built for natural language processing applications. Its Python package contains open-source implementations of trans\n",
    "former models for text, image, and audio tasks. It is compatible with the PyTorch, TensorFlow and JAX deep learning libraries and includes implementations of notable models like BERT and GPT-2 [3]. Since we are going to be taking an unsupervised learning approach, we have found the pre-trained model for these transformers to be helpful for our analysis.\n",
    "\n",
    "The analysis will be carried out in different dimensions:\n",
    "1. **Sentiment Trend**: Study how the sentiment in movie descriptions has evolved over the decades, and whether there have been significant shifts.\n",
    "2. **Director’s Influence on Sentiment**: Investigate whether certain directors are associated with more positively or negatively described movies, thus assessing the impact of directorial influence on public sentiment.\n",
    "3. **Critical Response Sentiment Analysis**: Similar to the Director’s influence, this study will involve correlating the Metacritic rating with sentiment scores, and determine if a positive description aligns with the higher critical score. This can be an excellent provider of future predictions of movies."
   ]
  },
  {
   "cell_type": "markdown",
   "metadata": {},
   "source": [
    "## Data Collection and Pre-processing"
   ]
  },
  {
   "cell_type": "markdown",
   "metadata": {},
   "source": [
    "### Data Source"
   ]
  },
  {
   "cell_type": "markdown",
   "metadata": {},
   "source": [
    "The source of the data is from Kaggle [3]. The dataset contains detailed information on over 16,000 movies released between 1910 and 2024, along with their corresponding Metacritic ratings. The key features include: Title, Release Date, Description, Rating, Number of Persons Voted, Directed by, Written by, Duration and Genres. With Sentiment Analysis, we could be looking at how the movies fair against directors, writers, duration, number of people voted, among other things."
   ]
  },
  {
   "cell_type": "code",
   "execution_count": 1,
   "metadata": {},
   "outputs": [],
   "source": [
    "# Import libraries\n",
    "\n",
    "import numpy as np\n",
    "import pandas as pd\n",
    "import re\n",
    "import matplotlib.pyplot as plt\n",
    "import random"
   ]
  },
  {
   "cell_type": "code",
   "execution_count": 2,
   "metadata": {},
   "outputs": [
    {
     "data": {
      "text/html": [
       "<div>\n",
       "<style scoped>\n",
       "    .dataframe tbody tr th:only-of-type {\n",
       "        vertical-align: middle;\n",
       "    }\n",
       "\n",
       "    .dataframe tbody tr th {\n",
       "        vertical-align: top;\n",
       "    }\n",
       "\n",
       "    .dataframe thead th {\n",
       "        text-align: right;\n",
       "    }\n",
       "</style>\n",
       "<table border=\"1\" class=\"dataframe\">\n",
       "  <thead>\n",
       "    <tr style=\"text-align: right;\">\n",
       "      <th></th>\n",
       "      <th>Unnamed: 0</th>\n",
       "      <th>Title</th>\n",
       "      <th>Release Date</th>\n",
       "      <th>Description</th>\n",
       "      <th>Rating</th>\n",
       "      <th>No of Persons Voted</th>\n",
       "      <th>Directed by</th>\n",
       "      <th>Written by</th>\n",
       "      <th>Duration</th>\n",
       "      <th>Genres</th>\n",
       "    </tr>\n",
       "  </thead>\n",
       "  <tbody>\n",
       "    <tr>\n",
       "      <th>0</th>\n",
       "      <td>0</td>\n",
       "      <td>Dekalog (1988)</td>\n",
       "      <td>Mar 22, 1996</td>\n",
       "      <td>This masterwork by Krzysztof Kieślowski is one...</td>\n",
       "      <td>7.4</td>\n",
       "      <td>118</td>\n",
       "      <td>Krzysztof Kieslowski</td>\n",
       "      <td>Krzysztof Kieslowski, Krzysztof Piesiewicz</td>\n",
       "      <td>9 h 32 m</td>\n",
       "      <td>Drama</td>\n",
       "    </tr>\n",
       "    <tr>\n",
       "      <th>1</th>\n",
       "      <td>1</td>\n",
       "      <td>Three Colors: Red</td>\n",
       "      <td>Nov 23, 1994</td>\n",
       "      <td>Krzysztof Kieslowski closes his Three Colors t...</td>\n",
       "      <td>8.3</td>\n",
       "      <td>241</td>\n",
       "      <td>Krzysztof Kieslowski</td>\n",
       "      <td>Krzysztof Kieslowski, Krzysztof Piesiewicz, Ag...</td>\n",
       "      <td>1 h 39 m</td>\n",
       "      <td>Drama,Mystery,Romance</td>\n",
       "    </tr>\n",
       "    <tr>\n",
       "      <th>2</th>\n",
       "      <td>2</td>\n",
       "      <td>The Conformist</td>\n",
       "      <td>Oct 22, 1970</td>\n",
       "      <td>Set in Rome in the 1930s, this re-release of B...</td>\n",
       "      <td>7.3</td>\n",
       "      <td>106</td>\n",
       "      <td>Bernardo Bertolucci</td>\n",
       "      <td>Alberto Moravia, Bernardo Bertolucci</td>\n",
       "      <td>1 h 47 m</td>\n",
       "      <td>Drama</td>\n",
       "    </tr>\n",
       "    <tr>\n",
       "      <th>3</th>\n",
       "      <td>3</td>\n",
       "      <td>Tokyo Story</td>\n",
       "      <td>Mar 13, 1972</td>\n",
       "      <td>Yasujiro Ozu’s Tokyo Story follows an aging co...</td>\n",
       "      <td>8.1</td>\n",
       "      <td>147</td>\n",
       "      <td>Yasujirô Ozu</td>\n",
       "      <td>Kôgo Noda, Yasujirô Ozu</td>\n",
       "      <td>2 h 16 m</td>\n",
       "      <td>Drama</td>\n",
       "    </tr>\n",
       "    <tr>\n",
       "      <th>4</th>\n",
       "      <td>4</td>\n",
       "      <td>The Leopard (re-release)</td>\n",
       "      <td>Aug 13, 2004</td>\n",
       "      <td>Set in Sicily in 1860, Luchino Visconti's spec...</td>\n",
       "      <td>7.8</td>\n",
       "      <td>85</td>\n",
       "      <td>Luchino Visconti</td>\n",
       "      <td>Giuseppe Tomasi di Lampedusa, Suso Cecchi D'Am...</td>\n",
       "      <td>3 h 7 m</td>\n",
       "      <td>Drama,History</td>\n",
       "    </tr>\n",
       "  </tbody>\n",
       "</table>\n",
       "</div>"
      ],
      "text/plain": [
       "   Unnamed: 0                     Title  Release Date  \\\n",
       "0           0            Dekalog (1988)  Mar 22, 1996   \n",
       "1           1         Three Colors: Red  Nov 23, 1994   \n",
       "2           2            The Conformist  Oct 22, 1970   \n",
       "3           3               Tokyo Story  Mar 13, 1972   \n",
       "4           4  The Leopard (re-release)  Aug 13, 2004   \n",
       "\n",
       "                                         Description  Rating  \\\n",
       "0  This masterwork by Krzysztof Kieślowski is one...     7.4   \n",
       "1  Krzysztof Kieslowski closes his Three Colors t...     8.3   \n",
       "2  Set in Rome in the 1930s, this re-release of B...     7.3   \n",
       "3  Yasujiro Ozu’s Tokyo Story follows an aging co...     8.1   \n",
       "4  Set in Sicily in 1860, Luchino Visconti's spec...     7.8   \n",
       "\n",
       "  No of Persons Voted           Directed by  \\\n",
       "0                 118  Krzysztof Kieslowski   \n",
       "1                 241  Krzysztof Kieslowski   \n",
       "2                 106   Bernardo Bertolucci   \n",
       "3                 147          Yasujirô Ozu   \n",
       "4                  85      Luchino Visconti   \n",
       "\n",
       "                                          Written by  Duration  \\\n",
       "0         Krzysztof Kieslowski, Krzysztof Piesiewicz  9 h 32 m   \n",
       "1  Krzysztof Kieslowski, Krzysztof Piesiewicz, Ag...  1 h 39 m   \n",
       "2               Alberto Moravia, Bernardo Bertolucci  1 h 47 m   \n",
       "3                            Kôgo Noda, Yasujirô Ozu  2 h 16 m   \n",
       "4  Giuseppe Tomasi di Lampedusa, Suso Cecchi D'Am...   3 h 7 m   \n",
       "\n",
       "                  Genres  \n",
       "0                  Drama  \n",
       "1  Drama,Mystery,Romance  \n",
       "2                  Drama  \n",
       "3                  Drama  \n",
       "4          Drama,History  "
      ]
     },
     "execution_count": 2,
     "metadata": {},
     "output_type": "execute_result"
    }
   ],
   "source": [
    "# Read data into dataframe and display first five rows\n",
    "\n",
    "data = pd.read_csv('16k_Movies.csv')\n",
    "data.head()"
   ]
  },
  {
   "cell_type": "markdown",
   "metadata": {},
   "source": [
    "### Data Pre-processing"
   ]
  },
  {
   "cell_type": "markdown",
   "metadata": {},
   "source": [
    "#### Check the number of data points and columns in the dataset"
   ]
  },
  {
   "cell_type": "code",
   "execution_count": 3,
   "metadata": {},
   "outputs": [
    {
     "name": "stdout",
     "output_type": "stream",
     "text": [
      "Number of data points = 16290\n",
      "Number of columns = 10\n",
      "['Unnamed: 0', 'Title', 'Release Date', 'Description', 'Rating', 'No of Persons Voted', 'Directed by', 'Written by', 'Duration', 'Genres']\n"
     ]
    }
   ],
   "source": [
    "print(f'Number of data points = {data.shape[0]}')\n",
    "print(f'Number of columns = {data.shape[1]}')\n",
    "print(list(data.columns))"
   ]
  },
  {
   "cell_type": "markdown",
   "metadata": {},
   "source": [
    "#### Drop the column named 'Unnamed 0' from the dataset as it provides no value to the dataset."
   ]
  },
  {
   "cell_type": "code",
   "execution_count": 4,
   "metadata": {},
   "outputs": [],
   "source": [
    "data.drop(\"Unnamed: 0\", axis=1, inplace = True)"
   ]
  },
  {
   "cell_type": "markdown",
   "metadata": {},
   "source": [
    "#### Check to see if dataset has missing or null values"
   ]
  },
  {
   "cell_type": "code",
   "execution_count": 5,
   "metadata": {},
   "outputs": [
    {
     "name": "stdout",
     "output_type": "stream",
     "text": [
      "Missing Value Report\n",
      "\n",
      "Title\n",
      "Number of missing values = 0\n",
      "\n",
      "Release Date\n",
      "Number of missing values = 0\n",
      "\n",
      "Description\n",
      "Number of missing values = 0\n",
      "\n",
      "Rating\n",
      "Number of missing values = 3444\n",
      "\n",
      "No of Persons Voted\n",
      "Number of missing values = 3461\n",
      "\n",
      "Directed by\n",
      "Number of missing values = 7\n",
      "\n",
      "Written by\n",
      "Number of missing values = 963\n",
      "\n",
      "Duration\n",
      "Number of missing values = 13\n",
      "\n",
      "Genres\n",
      "Number of missing values = 5\n",
      "\n"
     ]
    }
   ],
   "source": [
    "def missing_value_report(dataset):\n",
    "    print(f'Missing Value Report\\n')\n",
    "    for column in data.columns:\n",
    "        missing_values = np.sum(data[column].isna())\n",
    "        print(f'{column}')\n",
    "        print(f'Number of missing values = {missing_values}\\n')\n",
    "\n",
    "missing_value_report(data)"
   ]
  },
  {
   "cell_type": "markdown",
   "metadata": {},
   "source": [
    "#### Find the data points with missing directors and store them in a list."
   ]
  },
  {
   "cell_type": "code",
   "execution_count": 6,
   "metadata": {},
   "outputs": [],
   "source": [
    "missing_director = []\n",
    "for ind, director in enumerate(list(data['Directed by'])):\n",
    "    if pd.isna(director):\n",
    "        missing_director.append(ind)"
   ]
  },
  {
   "cell_type": "markdown",
   "metadata": {},
   "source": [
    "#### Fill in certain values from internet"
   ]
  },
  {
   "cell_type": "markdown",
   "metadata": {},
   "source": [
    "Since there are only 7 titles with missing directors, they can be filled by doing a simple Google search."
   ]
  },
  {
   "cell_type": "code",
   "execution_count": 7,
   "metadata": {},
   "outputs": [],
   "source": [
    "data.loc[data['Title'] == 'Apocalypse Now Redux', 'Directed by'] = 'Francis Ford Coppola'\n",
    "data.loc[data['Title'] == 'The Harder They Come', 'Directed by'] = 'Perry Henzell'\n",
    "data.loc[data['Title'] == 'The Godfather Coda: The Death of Michael Corleone', 'Directed by'] = 'Francis Ford Coppola'\n",
    "data.loc[data['Title'] == 'The Cotton Club Encore', 'Directed by'] = 'Francis Ford Coppola'\n",
    "data.loc[data['Title'] == 'Once Upon a Deadpool', 'Directed by'] = 'David Leitch'"
   ]
  },
  {
   "cell_type": "markdown",
   "metadata": {},
   "source": [
    "Find the data points with missing genres and store them in a list."
   ]
  },
  {
   "cell_type": "code",
   "execution_count": 8,
   "metadata": {},
   "outputs": [],
   "source": [
    "missing_genre = []\n",
    "for ind, genre in enumerate(list(data['Genres'])):\n",
    "    if pd.isna(genre):\n",
    "        missing_genre.append(ind)"
   ]
  },
  {
   "cell_type": "markdown",
   "metadata": {},
   "source": [
    "Since there are only 5 titles with missing genres, they can also be filled by doing a simple Google search."
   ]
  },
  {
   "cell_type": "code",
   "execution_count": 9,
   "metadata": {},
   "outputs": [],
   "source": [
    "data.loc[data['Title'] == 'Apocalypse Now Redux', 'Genres'] = 'Adventure'\n",
    "data.loc[data['Title'] == 'The Godfather Coda: The Death of Michael Corleone', 'Genres'] = 'Crime'\n",
    "data.loc[data['Title'] == 'The Cotton Club Encore', 'Genres'] = 'Crime'\n",
    "data.loc[data['Title'] == 'Once Upon a Deadpool', 'Genres'] = 'Action'\n",
    "data.loc[data['Title'] == 'À cause d\\'un garçon', 'Genres'] = 'Comedy'"
   ]
  },
  {
   "cell_type": "markdown",
   "metadata": {},
   "source": [
    "#### Drop columns with null values"
   ]
  },
  {
   "cell_type": "markdown",
   "metadata": {},
   "source": [
    "Next we'll drop any rows with features that have null values and check again to see if there are any missing values that have been missed."
   ]
  },
  {
   "cell_type": "code",
   "execution_count": 10,
   "metadata": {},
   "outputs": [
    {
     "name": "stdout",
     "output_type": "stream",
     "text": [
      "Missing Value Report\n",
      "\n",
      "Title\n",
      "Number of missing values = 0\n",
      "\n",
      "Release Date\n",
      "Number of missing values = 0\n",
      "\n",
      "Description\n",
      "Number of missing values = 0\n",
      "\n",
      "Rating\n",
      "Number of missing values = 0\n",
      "\n",
      "No of Persons Voted\n",
      "Number of missing values = 0\n",
      "\n",
      "Directed by\n",
      "Number of missing values = 0\n",
      "\n",
      "Written by\n",
      "Number of missing values = 0\n",
      "\n",
      "Duration\n",
      "Number of missing values = 0\n",
      "\n",
      "Genres\n",
      "Number of missing values = 0\n",
      "\n"
     ]
    }
   ],
   "source": [
    "data.dropna(axis = 0, inplace = True)\n",
    "missing_value_report(data)"
   ]
  },
  {
   "cell_type": "markdown",
   "metadata": {},
   "source": [
    "#### Check and fix data types"
   ]
  },
  {
   "cell_type": "markdown",
   "metadata": {},
   "source": [
    "Next we check the data types."
   ]
  },
  {
   "cell_type": "code",
   "execution_count": 11,
   "metadata": {},
   "outputs": [
    {
     "data": {
      "text/plain": [
       "Title                   object\n",
       "Release Date            object\n",
       "Description             object\n",
       "Rating                 float64\n",
       "No of Persons Voted     object\n",
       "Directed by             object\n",
       "Written by              object\n",
       "Duration                object\n",
       "Genres                  object\n",
       "dtype: object"
      ]
     },
     "execution_count": 11,
     "metadata": {},
     "output_type": "execute_result"
    }
   ],
   "source": [
    "data.dtypes"
   ]
  },
  {
   "cell_type": "markdown",
   "metadata": {},
   "source": [
    "I noticed the data types for certain columns were not as expected, for example the Released data were not of DateTime category, and Number of People voted were not numerical. There were also certain values missing. The missing values were mainly in the ratings column, and thus for the sake of analysis they were removed. Another observation we made was that there were duplicate data points. The duplicate data points were also dropped."
   ]
  },
  {
   "cell_type": "markdown",
   "metadata": {},
   "source": [
    "We see that `Release Date`,'No of Persons Voted' and 'Duration' are object types. Convert them to respective types. Additionally it seems some values in 'No of Persons Voted' are written as '4,102'. So I will replace the commas, then convert to numeric. Last, I convert the duration to minutes and drop any duplicate rows in the dataset."
   ]
  },
  {
   "cell_type": "code",
   "execution_count": 12,
   "metadata": {},
   "outputs": [],
   "source": [
    "data['Release Date'] = pd.to_datetime(data['Release Date'])\n",
    "data['No of Persons Voted'] = data['No of Persons Voted'].replace(',', '', regex=True)\n",
    "data['No of Persons Voted'] = pd.to_numeric(data['No of Persons Voted'])\n",
    "data['Directed by'] = data['Directed by'].str.replace(r'\\s+', ' ', regex=True)\n",
    "\n",
    "# Change duration to minutes\n",
    "def convert_to_minutes(duration):\n",
    "    match = re.match(r'(?:(\\d+) h)?\\s*(?:(\\d+) m)?', duration)\n",
    "    if not match:\n",
    "        return np.nan\n",
    "    hours = int(match.group(1)) if match.group(1) else 0\n",
    "    minutes = int(match.group(2)) if match.group(2) else 0\n",
    "    return hours * 60 + minutes\n",
    "\n",
    "data['Duration'] = data['Duration'].apply(convert_to_minutes)\n",
    "data = data[data['Duration'] > 0]\n",
    "data.drop_duplicates(keep = 'first', inplace = True)"
   ]
  },
  {
   "cell_type": "markdown",
   "metadata": {},
   "source": [
    "#### Select main genre category"
   ]
  },
  {
   "cell_type": "markdown",
   "metadata": {},
   "source": [
    "For the sake of analysis, we have selected only the first genre of the movie, classifying them to be the main category. For example, a movie may be a Drama, Mystery, Romance, but the prominent defining genre of the movie would be that it is a Drama."
   ]
  },
  {
   "cell_type": "code",
   "execution_count": 13,
   "metadata": {},
   "outputs": [
    {
     "name": "stdout",
     "output_type": "stream",
     "text": [
      "Number of unique genres = 20\n",
      "['Drama' 'Crime' 'Adventure' 'Comedy' 'Biography' 'Action' 'Animation'\n",
      " 'Documentary' 'Thriller' 'Horror' 'Unknown' 'Fantasy' 'Musical' 'Mystery'\n",
      " 'Romance' 'Sci-Fi' 'Family' 'Music' 'War' 'History']\n"
     ]
    }
   ],
   "source": [
    "data['Genre'] = data['Genres'].apply(lambda gen: gen.split(',')[0] if isinstance(gen, str) else None)\n",
    "num_genre = pd.unique(data['Genre'])\n",
    "print(f'Number of unique genres = {len(num_genre)}')\n",
    "print(num_genre)"
   ]
  },
  {
   "cell_type": "markdown",
   "metadata": {},
   "source": [
    "For the 'Unknown' genre, we take its second defining genre."
   ]
  },
  {
   "cell_type": "code",
   "execution_count": 14,
   "metadata": {},
   "outputs": [
    {
     "name": "stdout",
     "output_type": "stream",
     "text": [
      "Number of unique genres = 19\n",
      "['Drama' 'Crime' 'Adventure' 'Comedy' 'Biography' 'Action' 'Animation'\n",
      " 'Documentary' 'Thriller' 'Horror' 'Fantasy' 'Musical' 'Mystery' 'Romance'\n",
      " 'Sci-Fi' 'Family' 'Music' 'War' 'History']\n"
     ]
    }
   ],
   "source": [
    "data.loc[data['Genre'] == 'Unknown', 'Genre'] = data.loc[data['Genre'] == 'Unknown', 'Genres'].apply(lambda x: x.split(',')[1] if isinstance(x, str) else None)\n",
    "num_genre = pd.unique(data['Genre'])\n",
    "print(f'Number of unique genres = {len(num_genre)}')\n",
    "print(num_genre)"
   ]
  },
  {
   "cell_type": "markdown",
   "metadata": {},
   "source": [
    "#### Reset index"
   ]
  },
  {
   "cell_type": "markdown",
   "metadata": {},
   "source": [
    "Finally, I reset the index and check the shape and contents of our processed dataset."
   ]
  },
  {
   "cell_type": "code",
   "execution_count": 15,
   "metadata": {},
   "outputs": [
    {
     "data": {
      "text/plain": [
       "(11391, 10)"
      ]
     },
     "metadata": {},
     "output_type": "display_data"
    },
    {
     "data": {
      "text/plain": [
       "Title                          object\n",
       "Release Date           datetime64[ns]\n",
       "Description                    object\n",
       "Rating                        float64\n",
       "No of Persons Voted             int64\n",
       "Directed by                    object\n",
       "Written by                     object\n",
       "Duration                        int64\n",
       "Genres                         object\n",
       "Genre                          object\n",
       "dtype: object"
      ]
     },
     "metadata": {},
     "output_type": "display_data"
    }
   ],
   "source": [
    "data.reset_index(drop = True, inplace = True)\n",
    "display(data.shape)\n",
    "display(data.dtypes)"
   ]
  },
  {
   "cell_type": "markdown",
   "metadata": {},
   "source": [
    "## Analysis"
   ]
  },
  {
   "cell_type": "markdown",
   "metadata": {},
   "source": [
    "The data set was analyzed using the Hugging Face Transformer. This is a publicly available, pre-trained model that includes pipelines for transforming data and producing valuable results for analysis. The model used has been specifically been used for movie reviews analysis [4]. The model was trained and tested on a supervised data set. The dataset used was “Large Movie Review Dataset” provided by the Stanford University and specifically said to be used to train Hugging Face Transformers [5]. Their dataset contained 25000 training points and 25000 testing point. For our analysis however they were combined and then split randomly to have 80:20 ratio for training and testing respectively. [Table 1] displays the evaluation metrics. Thus we can see with an accuracy score of 93.1%, this model can be now used with our data set."
   ]
  },
  {
   "attachments": {
    "image.png": {
     "image/png": "[encoded data removed]"
    }
   },
   "cell_type": "markdown",
   "metadata": {},
   "source": [
    "![image.png](attachment:image.png)"
   ]
  },
  {
   "cell_type": "markdown",
   "metadata": {},
   "source": [
    "After the data set was cleaned and pre-processed, the Hugging Face Transformer was able to take the data set and sign sentiments based on the movie description. To have a better understanding of the sentiment, the labels assigned were either “Positive” or “Negative”. The label “Neutral” was not taken into consideration, and any “Neutral” label was considered “Negative”. The model also assigned a confidence label to the sentiment to indicate the model’s certainty in its predictions. Finally, the sentiment labels and scores were merged back into the main dataset for a comprehensive analysis."
   ]
  },
  {
   "cell_type": "markdown",
   "metadata": {},
   "source": [
    "### Links to Huggingface and pipeline\n",
    "\n",
    "1. https://huggingface.co/blog/sentiment-analysis-python\n",
    "2. https://huggingface.co/sarahai/movie-sentiment-analysis"
   ]
  },
  {
   "cell_type": "markdown",
   "metadata": {},
   "source": [
    "#### Import Huggingface pipeline"
   ]
  },
  {
   "cell_type": "code",
   "execution_count": 16,
   "metadata": {},
   "outputs": [],
   "source": [
    "from transformers import AutoTokenizer, AutoModelForSequenceClassification\n",
    "from transformers import pipeline\n",
    "import torch \n",
    "\n",
    "#print(torch.cuda.is_available()) --> Should return True if GPU is available"
   ]
  },
  {
   "cell_type": "markdown",
   "metadata": {},
   "source": [
    "We will use the model = \"sarahai/movie-sentiment-analysis\", which seems to be the most downloaded model.\n",
    "This model is a distilbert-base-uncased fine-tuned for sentiment analysis on the IMDb movie review dataset. \n",
    "The model is trained to classify movie reviews into positive or negative sentiment."
   ]
  },
  {
   "cell_type": "code",
   "execution_count": 17,
   "metadata": {},
   "outputs": [],
   "source": [
    "model_name = 'sarahai/movie-sentiment-analysis'"
   ]
  },
  {
   "cell_type": "markdown",
   "metadata": {},
   "source": [
    "#### Load pre-trained sentiment classification model"
   ]
  },
  {
   "cell_type": "code",
   "execution_count": 18,
   "metadata": {},
   "outputs": [],
   "source": [
    "sentiment_tokenizer = AutoTokenizer.from_pretrained(model_name)\n",
    "sentiment_model = AutoModelForSequenceClassification.from_pretrained(model_name)\n",
    "sentiment_classifier = pipeline('sentiment-analysis', model = sentiment_model, tokenizer = sentiment_tokenizer, device = 0)\n",
    "\n",
    "# device = 0 will use GPU instead of CPU. Will make the analysis faster."
   ]
  },
  {
   "cell_type": "markdown",
   "metadata": {},
   "source": [
    "#### Training and testing the model"
   ]
  },
  {
   "cell_type": "code",
   "execution_count": 19,
   "metadata": {},
   "outputs": [],
   "source": [
    "from sklearn.model_selection import train_test_split\n",
    "from sklearn.metrics import classification_report, confusion_matrix"
   ]
  },
  {
   "cell_type": "markdown",
   "metadata": {},
   "source": [
    "Following dataset was taken from “Large Movie Review Dataset” provided by the Stanford University and specifically said to be used to train Hugging Face Transformers."
   ]
  },
  {
   "cell_type": "code",
   "execution_count": 20,
   "metadata": {},
   "outputs": [
    {
     "name": "stdout",
     "output_type": "stream",
     "text": [
      "                                                    text  label\n",
      "0      I rented I AM CURIOUS-YELLOW from my video sto...      0\n",
      "1      \"I Am Curious: Yellow\" is a risible and preten...      0\n",
      "2      If only to avoid making this type of film in t...      0\n",
      "3      This film was probably inspired by Godard's Ma...      0\n",
      "4      Oh, brother...after hearing about this ridicul...      0\n",
      "...                                                  ...    ...\n",
      "24995  A hit at the time but now better categorised a...      1\n",
      "24996  I love this movie like no other. Another time ...      1\n",
      "24997  This film and it's sequel Barry Mckenzie holds...      1\n",
      "24998  'The Adventures Of Barry McKenzie' started lif...      1\n",
      "24999  The story centers around Barry McKenzie who mu...      1\n",
      "\n",
      "[25000 rows x 2 columns]\n"
     ]
    }
   ],
   "source": [
    "splits = {'train': 'plain_text/train-00000-of-00001.parquet', \n",
    "          'test': 'plain_text/test-00000-of-00001.parquet', \n",
    "          'unsupervised': 'plain_text/unsupervised-00000-of-00001.parquet'}\n",
    "\n",
    "df = pd.read_parquet(\"hf://datasets/stanfordnlp/imdb/\" + splits[\"train\"])\n",
    "print(df)"
   ]
  },
  {
   "cell_type": "markdown",
   "metadata": {},
   "source": [
    "This is a labelled dataset composed of training, testing and an unsupervised set of data to be used for validation. Here we see that the training and testing dataset is comprised of 25,000 data points. Now for our project, we will first combine them and split them randomly into 80:20 ration for training and testing."
   ]
  },
  {
   "cell_type": "code",
   "execution_count": 21,
   "metadata": {},
   "outputs": [],
   "source": [
    "train_df = pd.read_parquet(\"hf://datasets/stanfordnlp/imdb/\" + splits[\"train\"])\n",
    "test_df = pd.read_parquet(\"hf://datasets/stanfordnlp/imdb/\" + splits[\"test\"])"
   ]
  },
  {
   "cell_type": "code",
   "execution_count": 22,
   "metadata": {},
   "outputs": [],
   "source": [
    "combined_df = pd.concat([train_df, test_df]).reset_index(drop=True)"
   ]
  },
  {
   "cell_type": "code",
   "execution_count": 23,
   "metadata": {},
   "outputs": [],
   "source": [
    "train_df, test_df = train_test_split(combined_df, test_size=0.2, random_state=42)"
   ]
  },
  {
   "cell_type": "markdown",
   "metadata": {},
   "source": [
    "Next we will be training our ML model with the labelled dataset. First we need to transform DataFrames to Hugging Face Datasets "
   ]
  },
  {
   "cell_type": "code",
   "execution_count": 24,
   "metadata": {},
   "outputs": [],
   "source": [
    "from datasets import Dataset\n",
    "\n",
    "train_dataset = Dataset.from_pandas(train_df) \n",
    "test_dataset = Dataset.from_pandas(test_df)"
   ]
  },
  {
   "cell_type": "markdown",
   "metadata": {},
   "source": [
    "#### Tokenize the dataset"
   ]
  },
  {
   "cell_type": "code",
   "execution_count": 25,
   "metadata": {},
   "outputs": [
    {
     "data": {
      "application/vnd.jupyter.widget-view+json": {
       "model_id": "92359f8d3e6545cb9e223b333c3f6596",
       "version_major": 2,
       "version_minor": 0
      },
      "text/plain": [
       "Map:   0%|          | 0/40000 [00:00<?, ? examples/s]"
      ]
     },
     "metadata": {},
     "output_type": "display_data"
    },
    {
     "data": {
      "application/vnd.jupyter.widget-view+json": {
       "model_id": "b1623ec83c914de19ae2a3eacb525f0d",
       "version_major": 2,
       "version_minor": 0
      },
      "text/plain": [
       "Map:   0%|          | 0/10000 [00:00<?, ? examples/s]"
      ]
     },
     "metadata": {},
     "output_type": "display_data"
    }
   ],
   "source": [
    "def tokenize_function(examples):\n",
    "    return sentiment_tokenizer(examples['text'], padding='max_length', truncation=True)\n",
    "\n",
    "train_dataset = train_dataset.map(tokenize_function, batched=True)\n",
    "test_dataset = test_dataset.map(tokenize_function, batched=True)"
   ]
  },
  {
   "cell_type": "markdown",
   "metadata": {},
   "source": [
    "#### Define evaluation metrics"
   ]
  },
  {
   "cell_type": "code",
   "execution_count": 26,
   "metadata": {},
   "outputs": [],
   "source": [
    "def compute_metrics(p):\n",
    "    preds = p.predictions.argmax(-1)\n",
    "    precision, recall, f1, _ = precision_recall_fscore_support(p.label_ids, preds, average='binary')\n",
    "    acc = accuracy_score(p.label_ids, preds)\n",
    "    return {\n",
    "        'accuracy': acc,\n",
    "        'f1': f1,\n",
    "        'precision': precision,\n",
    "        'recall': recall\n",
    "    }"
   ]
  },
  {
   "cell_type": "markdown",
   "metadata": {},
   "source": [
    "#### Training hyperparameters"
   ]
  },
  {
   "cell_type": "code",
   "execution_count": 27,
   "metadata": {},
   "outputs": [],
   "source": [
    "from transformers import TrainingArguments\n",
    "training_args = TrainingArguments(output_dir=\"test_trainer\")"
   ]
  },
  {
   "cell_type": "markdown",
   "metadata": {},
   "source": [
    "#### Load model evaluation parameter"
   ]
  },
  {
   "cell_type": "markdown",
   "metadata": {
    "jp-MarkdownHeadingCollapsed": true
   },
   "source": [
    "Trainer does not automatically evaluate model performance during training. You’ll need to pass Trainer a function to compute and report metrics. The 🤗 Evaluate library provides a simple accuracy function you can load with the evaluate.load (see this quicktour for more information) function:"
   ]
  },
  {
   "cell_type": "code",
   "execution_count": 28,
   "metadata": {},
   "outputs": [],
   "source": [
    "import evaluate\n",
    "metric = evaluate.load(\"accuracy\")"
   ]
  },
  {
   "cell_type": "markdown",
   "metadata": {},
   "source": [
    "#### Train the model"
   ]
  },
  {
   "cell_type": "markdown",
   "metadata": {},
   "source": [
    "__Quick warning:__ The model takes about 3 hours to train."
   ]
  },
  {
   "cell_type": "code",
   "execution_count": 29,
   "metadata": {},
   "outputs": [
    {
     "data": {
      "text/html": [
       "\n",
       "    <div>\n",
       "      \n",
       "      <progress value='15000' max='15000' style='width:300px; height:20px; vertical-align: middle;'></progress>\n",
       "      [15000/15000 2:26:12, Epoch 3/3]\n",
       "    </div>\n",
       "    <table border=\"1\" class=\"dataframe\">\n",
       "  <thead>\n",
       " <tr style=\"text-align: left;\">\n",
       "      <th>Step</th>\n",
       "      <th>Training Loss</th>\n",
       "    </tr>\n",
       "  </thead>\n",
       "  <tbody>\n",
       "    <tr>\n",
       "      <td>500</td>\n",
       "      <td>0.367100</td>\n",
       "    </tr>\n",
       "    <tr>\n",
       "      <td>1000</td>\n",
       "      <td>0.332500</td>\n",
       "    </tr>\n",
       "    <tr>\n",
       "      <td>1500</td>\n",
       "      <td>0.327300</td>\n",
       "    </tr>\n",
       "    <tr>\n",
       "      <td>2000</td>\n",
       "      <td>0.300700</td>\n",
       "    </tr>\n",
       "    <tr>\n",
       "      <td>2500</td>\n",
       "      <td>0.300800</td>\n",
       "    </tr>\n",
       "    <tr>\n",
       "      <td>3000</td>\n",
       "      <td>0.285200</td>\n",
       "    </tr>\n",
       "    <tr>\n",
       "      <td>3500</td>\n",
       "      <td>0.262600</td>\n",
       "    </tr>\n",
       "    <tr>\n",
       "      <td>4000</td>\n",
       "      <td>0.262300</td>\n",
       "    </tr>\n",
       "    <tr>\n",
       "      <td>4500</td>\n",
       "      <td>0.271600</td>\n",
       "    </tr>\n",
       "    <tr>\n",
       "      <td>5000</td>\n",
       "      <td>0.260500</td>\n",
       "    </tr>\n",
       "    <tr>\n",
       "      <td>5500</td>\n",
       "      <td>0.160300</td>\n",
       "    </tr>\n",
       "    <tr>\n",
       "      <td>6000</td>\n",
       "      <td>0.153900</td>\n",
       "    </tr>\n",
       "    <tr>\n",
       "      <td>6500</td>\n",
       "      <td>0.158700</td>\n",
       "    </tr>\n",
       "    <tr>\n",
       "      <td>7000</td>\n",
       "      <td>0.178100</td>\n",
       "    </tr>\n",
       "    <tr>\n",
       "      <td>7500</td>\n",
       "      <td>0.161400</td>\n",
       "    </tr>\n",
       "    <tr>\n",
       "      <td>8000</td>\n",
       "      <td>0.161300</td>\n",
       "    </tr>\n",
       "    <tr>\n",
       "      <td>8500</td>\n",
       "      <td>0.169200</td>\n",
       "    </tr>\n",
       "    <tr>\n",
       "      <td>9000</td>\n",
       "      <td>0.166700</td>\n",
       "    </tr>\n",
       "    <tr>\n",
       "      <td>9500</td>\n",
       "      <td>0.174100</td>\n",
       "    </tr>\n",
       "    <tr>\n",
       "      <td>10000</td>\n",
       "      <td>0.154000</td>\n",
       "    </tr>\n",
       "    <tr>\n",
       "      <td>10500</td>\n",
       "      <td>0.077200</td>\n",
       "    </tr>\n",
       "    <tr>\n",
       "      <td>11000</td>\n",
       "      <td>0.068200</td>\n",
       "    </tr>\n",
       "    <tr>\n",
       "      <td>11500</td>\n",
       "      <td>0.069700</td>\n",
       "    </tr>\n",
       "    <tr>\n",
       "      <td>12000</td>\n",
       "      <td>0.065500</td>\n",
       "    </tr>\n",
       "    <tr>\n",
       "      <td>12500</td>\n",
       "      <td>0.054300</td>\n",
       "    </tr>\n",
       "    <tr>\n",
       "      <td>13000</td>\n",
       "      <td>0.069500</td>\n",
       "    </tr>\n",
       "    <tr>\n",
       "      <td>13500</td>\n",
       "      <td>0.059900</td>\n",
       "    </tr>\n",
       "    <tr>\n",
       "      <td>14000</td>\n",
       "      <td>0.075100</td>\n",
       "    </tr>\n",
       "    <tr>\n",
       "      <td>14500</td>\n",
       "      <td>0.050400</td>\n",
       "    </tr>\n",
       "    <tr>\n",
       "      <td>15000</td>\n",
       "      <td>0.038500</td>\n",
       "    </tr>\n",
       "  </tbody>\n",
       "</table><p>"
      ],
      "text/plain": [
       "<IPython.core.display.HTML object>"
      ]
     },
     "metadata": {},
     "output_type": "display_data"
    },
    {
     "name": "stdout",
     "output_type": "stream",
     "text": [
      "Time elapsed = 2.439563443594509 hours\n"
     ]
    }
   ],
   "source": [
    "import time\n",
    "start_time = time.time()\n",
    "from transformers import Trainer\n",
    "trainer = Trainer(\n",
    "    model=sentiment_model,\n",
    "    args=training_args,\n",
    "    train_dataset=train_dataset,\n",
    "    eval_dataset=test_dataset,\n",
    "    compute_metrics=compute_metrics\n",
    ")\n",
    "\n",
    "trainer.train()\n",
    "elapsed_time = (time.time() - start_time) / 3600\n",
    "print(f'Time elapsed = {elapsed_time} hours')"
   ]
  },
  {
   "cell_type": "markdown",
   "metadata": {},
   "source": [
    "#### Dataset pre-processing Part 2"
   ]
  },
  {
   "cell_type": "markdown",
   "metadata": {},
   "source": [
    "One issue that may arise with Hugging Face is that most transformer models have a max sequence length of 512. And since we have very long descriptions, one way of dealing with this is to break the long description into chunks and analyze each window. Determine the overall sentiment and take the max score."
   ]
  },
  {
   "cell_type": "code",
   "execution_count": 30,
   "metadata": {},
   "outputs": [
    {
     "data": {
      "text/html": [
       "<div>\n",
       "<style scoped>\n",
       "    .dataframe tbody tr th:only-of-type {\n",
       "        vertical-align: middle;\n",
       "    }\n",
       "\n",
       "    .dataframe tbody tr th {\n",
       "        vertical-align: top;\n",
       "    }\n",
       "\n",
       "    .dataframe thead th {\n",
       "        text-align: right;\n",
       "    }\n",
       "</style>\n",
       "<table border=\"1\" class=\"dataframe\">\n",
       "  <thead>\n",
       "    <tr style=\"text-align: right;\">\n",
       "      <th></th>\n",
       "      <th>Title</th>\n",
       "      <th>Description</th>\n",
       "    </tr>\n",
       "  </thead>\n",
       "  <tbody>\n",
       "    <tr>\n",
       "      <th>0</th>\n",
       "      <td>Dekalog (1988)</td>\n",
       "      <td>This masterwork by Krzysztof Kieślowski is one...</td>\n",
       "    </tr>\n",
       "    <tr>\n",
       "      <th>1</th>\n",
       "      <td>Three Colors: Red</td>\n",
       "      <td>Krzysztof Kieslowski closes his Three Colors t...</td>\n",
       "    </tr>\n",
       "    <tr>\n",
       "      <th>2</th>\n",
       "      <td>The Conformist</td>\n",
       "      <td>Set in Rome in the 1930s, this re-release of B...</td>\n",
       "    </tr>\n",
       "    <tr>\n",
       "      <th>3</th>\n",
       "      <td>Tokyo Story</td>\n",
       "      <td>Yasujiro Ozu’s Tokyo Story follows an aging co...</td>\n",
       "    </tr>\n",
       "    <tr>\n",
       "      <th>4</th>\n",
       "      <td>The Leopard (re-release)</td>\n",
       "      <td>Set in Sicily in 1860, Luchino Visconti's spec...</td>\n",
       "    </tr>\n",
       "  </tbody>\n",
       "</table>\n",
       "</div>"
      ],
      "text/plain": [
       "                      Title                                        Description\n",
       "0            Dekalog (1988)  This masterwork by Krzysztof Kieślowski is one...\n",
       "1         Three Colors: Red  Krzysztof Kieslowski closes his Three Colors t...\n",
       "2            The Conformist  Set in Rome in the 1930s, this re-release of B...\n",
       "3               Tokyo Story  Yasujiro Ozu’s Tokyo Story follows an aging co...\n",
       "4  The Leopard (re-release)  Set in Sicily in 1860, Luchino Visconti's spec..."
      ]
     },
     "execution_count": 30,
     "metadata": {},
     "output_type": "execute_result"
    }
   ],
   "source": [
    "data_description = data[['Title', 'Description']].copy()\n",
    "data_description.head()"
   ]
  },
  {
   "cell_type": "code",
   "execution_count": 31,
   "metadata": {},
   "outputs": [],
   "source": [
    "def chunk_sentiment_score(description, window_size = 512, stride = 256):\n",
    "    # Break the long description into overlapping windows\n",
    "    windows = [\n",
    "        description[i:i+window_size] \n",
    "        for i in range(0, len(description), stride)\n",
    "    ]\n",
    "\n",
    "    # Analyze sentiment for each window\n",
    "    window_sentiments = [sentiment_classifier(window)[0] for window in windows]\n",
    "\n",
    "    # Aggregate sentiments\n",
    "    negative_windows = sum(1 for sent in window_sentiments if sent['label'] == 'LABEL_0')\n",
    "    positive_windows = sum(1 for sent in window_sentiments if sent['label'] == 'LABEL_1')\n",
    "\n",
    "    # Determine overall sentiment\n",
    "    if positive_windows > negative_windows:\n",
    "        return {\n",
    "            'label': 'LABEL_1', \n",
    "            'score': max(sent['score'] for sent in window_sentiments if sent['label'] == 'LABEL_1')\n",
    "        }\n",
    "    elif negative_windows >= positive_windows:\n",
    "        return {\n",
    "            'label': 'LABEL_0', \n",
    "            'score': max(sent['score'] for sent in window_sentiments if sent['label'] == 'LABEL_0')\n",
    "        }\n",
    "    # else:\n",
    "    #     return {\n",
    "    #         'label': 'NEUTRAL', \n",
    "    #         'score': 0.5\n",
    "    #     }\n",
    "\n",
    "\n",
    "def extract_sentiment_scores(description):\n",
    "\n",
    "    # If the description is not str, just return it is Neutral with a score of 0.5\n",
    "    # if not isinstance(description, str):\n",
    "    #     return {'label': 'Neutral', 'score': 0.5}\n",
    "\n",
    "    max_length = 512\n",
    "\n",
    "    if len(description) <= max_length:\n",
    "        result = sentiment_classifier(description)[0]\n",
    "    elif len(description) > max_length:\n",
    "        result = chunk_sentiment_score(description)\n",
    "\n",
    "    # For some reason, the positive sentiment is labeled as LABEL_1, negative sentiment is labeled as LABEL_0\n",
    "    if result['label'] == 'LABEL_0':\n",
    "        result['label'] = 'Negative'\n",
    "    elif result['label'] == 'LABEL_1':\n",
    "        result['label'] = 'Positive'\n",
    "\n",
    "    return result"
   ]
  },
  {
   "cell_type": "markdown",
   "metadata": {},
   "source": [
    "Example with positive sentiment:"
   ]
  },
  {
   "cell_type": "code",
   "execution_count": 32,
   "metadata": {},
   "outputs": [
    {
     "name": "stdout",
     "output_type": "stream",
     "text": [
      "Movie Title: If Beale Street Could Talk\n",
      "\n",
      "\n",
      "Description: Set in early-1970s Harlem, If Beale Street Could Talk is a timeless and moving love story of both a couple's unbreakable bond and the African-American family's empowering embrace, as told through the eyes of 19-year old Tish Rivers (KiKi Layne).  A daughter and wife-to-be, Tish vividly recalls the passion, respect and trust that have connected her and her artist fiancé Alonzo Hunt, who goes by the nickname Fonny (Stephan James).  Friends since childhood, the devoted couple dream of a future together but their plans are derailed when Fonny is arrested for a crime he did not commit. Tish knows that Fonny is innocent, and is mindful that his good friend Daniel Carty (Brian Tyree Henry) has only recently been freed after an unjust incarceration.  While Fonny's mother (Aunjanue Ellis) clings to piety and his father (Michael Beach) grapples with feelings of powerlessness, Tish's earthy father Joseph (Colman Domingo) and fierce older sister Ernestine (Teyonah Parris) are unwavering in their support.  Even more anxious to clear Fonny's name is Tish's deeply compassionate mother Sharon (Regina King), readying to put herself on the line for her daughter and future son-in-law's happiness...and for the couple's unborn child, whose arrival will herald new joys and challenges.  Facing the unexpected prospect of parenthood and holding down a job without her partner at her side, Tish must adjust her perspective on the realities of her existence.  She visits Fonny regularly, trying to shore up his spirit even as prison takes its toll.  As the weeks turn to months, Tish reaffirms their hopes and resilience, relying on familial and inner strength. [Annapurna Pictures]\n",
      "\n",
      "\n",
      "{'label': 'Positive', 'score': 0.9998165965080261}\n"
     ]
    }
   ],
   "source": [
    "print(f'''Movie Title: {data_description['Title'][332]}''')\n",
    "print('\\n')\n",
    "print(f'''Description: {data_description['Description'][332]}''')\n",
    "print('\\n')\n",
    "print(extract_sentiment_scores(data_description['Description'][332]))"
   ]
  },
  {
   "cell_type": "markdown",
   "metadata": {},
   "source": [
    "Now we will add the label to the data_description DataFrame"
   ]
  },
  {
   "cell_type": "code",
   "execution_count": 33,
   "metadata": {},
   "outputs": [
    {
     "name": "stderr",
     "output_type": "stream",
     "text": [
      "You seem to be using the pipelines sequentially on GPU. In order to maximize efficiency please use a dataset\n"
     ]
    }
   ],
   "source": [
    "data_description.loc[:, 'Sentiment'] = data_description['Description'].apply(lambda x : extract_sentiment_scores(x)['label'])"
   ]
  },
  {
   "cell_type": "markdown",
   "metadata": {},
   "source": [
    "And then add the score to the data_description DataFrame"
   ]
  },
  {
   "cell_type": "code",
   "execution_count": 34,
   "metadata": {},
   "outputs": [],
   "source": [
    "data_description.loc[:, 'Sentiment Score'] = data_description['Description'].apply(lambda x : extract_sentiment_scores(x)['score'])"
   ]
  },
  {
   "cell_type": "markdown",
   "metadata": {},
   "source": [
    "Final Dataset:"
   ]
  },
  {
   "cell_type": "code",
   "execution_count": 35,
   "metadata": {},
   "outputs": [
    {
     "data": {
      "text/html": [
       "<div>\n",
       "<style scoped>\n",
       "    .dataframe tbody tr th:only-of-type {\n",
       "        vertical-align: middle;\n",
       "    }\n",
       "\n",
       "    .dataframe tbody tr th {\n",
       "        vertical-align: top;\n",
       "    }\n",
       "\n",
       "    .dataframe thead th {\n",
       "        text-align: right;\n",
       "    }\n",
       "</style>\n",
       "<table border=\"1\" class=\"dataframe\">\n",
       "  <thead>\n",
       "    <tr style=\"text-align: right;\">\n",
       "      <th></th>\n",
       "      <th>Title</th>\n",
       "      <th>Description</th>\n",
       "      <th>Sentiment</th>\n",
       "      <th>Sentiment Score</th>\n",
       "    </tr>\n",
       "  </thead>\n",
       "  <tbody>\n",
       "    <tr>\n",
       "      <th>0</th>\n",
       "      <td>Dekalog (1988)</td>\n",
       "      <td>This masterwork by Krzysztof Kieślowski is one...</td>\n",
       "      <td>Positive</td>\n",
       "      <td>0.999793</td>\n",
       "    </tr>\n",
       "    <tr>\n",
       "      <th>1</th>\n",
       "      <td>Three Colors: Red</td>\n",
       "      <td>Krzysztof Kieslowski closes his Three Colors t...</td>\n",
       "      <td>Positive</td>\n",
       "      <td>0.999765</td>\n",
       "    </tr>\n",
       "    <tr>\n",
       "      <th>2</th>\n",
       "      <td>The Conformist</td>\n",
       "      <td>Set in Rome in the 1930s, this re-release of B...</td>\n",
       "      <td>Positive</td>\n",
       "      <td>0.996626</td>\n",
       "    </tr>\n",
       "    <tr>\n",
       "      <th>3</th>\n",
       "      <td>Tokyo Story</td>\n",
       "      <td>Yasujiro Ozu’s Tokyo Story follows an aging co...</td>\n",
       "      <td>Positive</td>\n",
       "      <td>0.999801</td>\n",
       "    </tr>\n",
       "    <tr>\n",
       "      <th>4</th>\n",
       "      <td>The Leopard (re-release)</td>\n",
       "      <td>Set in Sicily in 1860, Luchino Visconti's spec...</td>\n",
       "      <td>Positive</td>\n",
       "      <td>0.999763</td>\n",
       "    </tr>\n",
       "  </tbody>\n",
       "</table>\n",
       "</div>"
      ],
      "text/plain": [
       "                      Title  \\\n",
       "0            Dekalog (1988)   \n",
       "1         Three Colors: Red   \n",
       "2            The Conformist   \n",
       "3               Tokyo Story   \n",
       "4  The Leopard (re-release)   \n",
       "\n",
       "                                         Description Sentiment  \\\n",
       "0  This masterwork by Krzysztof Kieślowski is one...  Positive   \n",
       "1  Krzysztof Kieslowski closes his Three Colors t...  Positive   \n",
       "2  Set in Rome in the 1930s, this re-release of B...  Positive   \n",
       "3  Yasujiro Ozu’s Tokyo Story follows an aging co...  Positive   \n",
       "4  Set in Sicily in 1860, Luchino Visconti's spec...  Positive   \n",
       "\n",
       "   Sentiment Score  \n",
       "0         0.999793  \n",
       "1         0.999765  \n",
       "2         0.996626  \n",
       "3         0.999801  \n",
       "4         0.999763  "
      ]
     },
     "execution_count": 35,
     "metadata": {},
     "output_type": "execute_result"
    }
   ],
   "source": [
    "data_description.head()"
   ]
  },
  {
   "cell_type": "markdown",
   "metadata": {},
   "source": [
    "## Results"
   ]
  },
  {
   "cell_type": "markdown",
   "metadata": {},
   "source": [
    "### Genre Sentiment Analysis"
   ]
  },
  {
   "cell_type": "markdown",
   "metadata": {},
   "source": [
    "The first thing that was looked into is to observe how the sentiments generated faired with the genre. Each movie was either represented by a single genre or categorized into multiple genres. There were 23 unique genres that the movies were categorized into. We decided to work on categorizing the movies into multiple genres and analyze the sentiments from there on. Figure 1 displays the result."
   ]
  },
  {
   "cell_type": "markdown",
   "metadata": {},
   "source": [
    "Getting the dataset ready for this specific analysis"
   ]
  },
  {
   "cell_type": "code",
   "execution_count": 36,
   "metadata": {},
   "outputs": [
    {
     "data": {
      "text/html": [
       "<div>\n",
       "<style scoped>\n",
       "    .dataframe tbody tr th:only-of-type {\n",
       "        vertical-align: middle;\n",
       "    }\n",
       "\n",
       "    .dataframe tbody tr th {\n",
       "        vertical-align: top;\n",
       "    }\n",
       "\n",
       "    .dataframe thead th {\n",
       "        text-align: right;\n",
       "    }\n",
       "</style>\n",
       "<table border=\"1\" class=\"dataframe\">\n",
       "  <thead>\n",
       "    <tr style=\"text-align: right;\">\n",
       "      <th></th>\n",
       "      <th>Title</th>\n",
       "      <th>Description</th>\n",
       "      <th>Sentiment</th>\n",
       "      <th>Sentiment Score</th>\n",
       "      <th>Genres</th>\n",
       "    </tr>\n",
       "  </thead>\n",
       "  <tbody>\n",
       "    <tr>\n",
       "      <th>0</th>\n",
       "      <td>Dekalog (1988)</td>\n",
       "      <td>This masterwork by Krzysztof Kieślowski is one...</td>\n",
       "      <td>Positive</td>\n",
       "      <td>0.999793</td>\n",
       "      <td>Drama</td>\n",
       "    </tr>\n",
       "    <tr>\n",
       "      <th>1</th>\n",
       "      <td>Three Colors: Red</td>\n",
       "      <td>Krzysztof Kieslowski closes his Three Colors t...</td>\n",
       "      <td>Positive</td>\n",
       "      <td>0.999765</td>\n",
       "      <td>Drama,Mystery,Romance</td>\n",
       "    </tr>\n",
       "    <tr>\n",
       "      <th>2</th>\n",
       "      <td>The Conformist</td>\n",
       "      <td>Set in Rome in the 1930s, this re-release of B...</td>\n",
       "      <td>Positive</td>\n",
       "      <td>0.996626</td>\n",
       "      <td>Drama</td>\n",
       "    </tr>\n",
       "    <tr>\n",
       "      <th>3</th>\n",
       "      <td>Tokyo Story</td>\n",
       "      <td>Yasujiro Ozu’s Tokyo Story follows an aging co...</td>\n",
       "      <td>Positive</td>\n",
       "      <td>0.999801</td>\n",
       "      <td>Drama</td>\n",
       "    </tr>\n",
       "    <tr>\n",
       "      <th>4</th>\n",
       "      <td>The Leopard (re-release)</td>\n",
       "      <td>Set in Sicily in 1860, Luchino Visconti's spec...</td>\n",
       "      <td>Positive</td>\n",
       "      <td>0.999763</td>\n",
       "      <td>Drama,History</td>\n",
       "    </tr>\n",
       "  </tbody>\n",
       "</table>\n",
       "</div>"
      ],
      "text/plain": [
       "                      Title  \\\n",
       "0            Dekalog (1988)   \n",
       "1         Three Colors: Red   \n",
       "2            The Conformist   \n",
       "3               Tokyo Story   \n",
       "4  The Leopard (re-release)   \n",
       "\n",
       "                                         Description Sentiment  \\\n",
       "0  This masterwork by Krzysztof Kieślowski is one...  Positive   \n",
       "1  Krzysztof Kieslowski closes his Three Colors t...  Positive   \n",
       "2  Set in Rome in the 1930s, this re-release of B...  Positive   \n",
       "3  Yasujiro Ozu’s Tokyo Story follows an aging co...  Positive   \n",
       "4  Set in Sicily in 1860, Luchino Visconti's spec...  Positive   \n",
       "\n",
       "   Sentiment Score                 Genres  \n",
       "0         0.999793                  Drama  \n",
       "1         0.999765  Drama,Mystery,Romance  \n",
       "2         0.996626                  Drama  \n",
       "3         0.999801                  Drama  \n",
       "4         0.999763          Drama,History  "
      ]
     },
     "execution_count": 36,
     "metadata": {},
     "output_type": "execute_result"
    }
   ],
   "source": [
    "genre_sentiment2 = pd.merge(data_description, data[['Title', 'Genres']], on = 'Title')\n",
    "genre_sentiment2.head()"
   ]
  },
  {
   "cell_type": "markdown",
   "metadata": {},
   "source": [
    "Explode the genre column"
   ]
  },
  {
   "cell_type": "code",
   "execution_count": 37,
   "metadata": {},
   "outputs": [
    {
     "data": {
      "text/html": [
       "<div>\n",
       "<style scoped>\n",
       "    .dataframe tbody tr th:only-of-type {\n",
       "        vertical-align: middle;\n",
       "    }\n",
       "\n",
       "    .dataframe tbody tr th {\n",
       "        vertical-align: top;\n",
       "    }\n",
       "\n",
       "    .dataframe thead th {\n",
       "        text-align: right;\n",
       "    }\n",
       "</style>\n",
       "<table border=\"1\" class=\"dataframe\">\n",
       "  <thead>\n",
       "    <tr style=\"text-align: right;\">\n",
       "      <th></th>\n",
       "      <th>Title</th>\n",
       "      <th>Description</th>\n",
       "      <th>Sentiment</th>\n",
       "      <th>Sentiment Score</th>\n",
       "      <th>Genres</th>\n",
       "    </tr>\n",
       "  </thead>\n",
       "  <tbody>\n",
       "    <tr>\n",
       "      <th>0</th>\n",
       "      <td>Dekalog (1988)</td>\n",
       "      <td>This masterwork by Krzysztof Kieślowski is one...</td>\n",
       "      <td>Positive</td>\n",
       "      <td>0.999793</td>\n",
       "      <td>Drama</td>\n",
       "    </tr>\n",
       "    <tr>\n",
       "      <th>1</th>\n",
       "      <td>Three Colors: Red</td>\n",
       "      <td>Krzysztof Kieslowski closes his Three Colors t...</td>\n",
       "      <td>Positive</td>\n",
       "      <td>0.999765</td>\n",
       "      <td>Drama</td>\n",
       "    </tr>\n",
       "    <tr>\n",
       "      <th>1</th>\n",
       "      <td>Three Colors: Red</td>\n",
       "      <td>Krzysztof Kieslowski closes his Three Colors t...</td>\n",
       "      <td>Positive</td>\n",
       "      <td>0.999765</td>\n",
       "      <td>Mystery</td>\n",
       "    </tr>\n",
       "    <tr>\n",
       "      <th>1</th>\n",
       "      <td>Three Colors: Red</td>\n",
       "      <td>Krzysztof Kieslowski closes his Three Colors t...</td>\n",
       "      <td>Positive</td>\n",
       "      <td>0.999765</td>\n",
       "      <td>Romance</td>\n",
       "    </tr>\n",
       "    <tr>\n",
       "      <th>2</th>\n",
       "      <td>The Conformist</td>\n",
       "      <td>Set in Rome in the 1930s, this re-release of B...</td>\n",
       "      <td>Positive</td>\n",
       "      <td>0.996626</td>\n",
       "      <td>Drama</td>\n",
       "    </tr>\n",
       "  </tbody>\n",
       "</table>\n",
       "</div>"
      ],
      "text/plain": [
       "               Title                                        Description  \\\n",
       "0     Dekalog (1988)  This masterwork by Krzysztof Kieślowski is one...   \n",
       "1  Three Colors: Red  Krzysztof Kieslowski closes his Three Colors t...   \n",
       "1  Three Colors: Red  Krzysztof Kieslowski closes his Three Colors t...   \n",
       "1  Three Colors: Red  Krzysztof Kieslowski closes his Three Colors t...   \n",
       "2     The Conformist  Set in Rome in the 1930s, this re-release of B...   \n",
       "\n",
       "  Sentiment  Sentiment Score   Genres  \n",
       "0  Positive         0.999793    Drama  \n",
       "1  Positive         0.999765    Drama  \n",
       "1  Positive         0.999765  Mystery  \n",
       "1  Positive         0.999765  Romance  \n",
       "2  Positive         0.996626    Drama  "
      ]
     },
     "execution_count": 37,
     "metadata": {},
     "output_type": "execute_result"
    }
   ],
   "source": [
    "genre_sentiment2['Genres'] = genre_sentiment2['Genres'].str.split(',')\n",
    "genre_sentiment2 = genre_sentiment2.explode('Genres')\n",
    "genre_sentiment2.head()"
   ]
  },
  {
   "cell_type": "markdown",
   "metadata": {},
   "source": [
    "Group by genre and sentiment"
   ]
  },
  {
   "cell_type": "code",
   "execution_count": 38,
   "metadata": {},
   "outputs": [],
   "source": [
    "genre_sentiment_dist2 = genre_sentiment2.groupby(['Genres', 'Sentiment']).size()"
   ]
  },
  {
   "cell_type": "markdown",
   "metadata": {},
   "source": [
    "Normalize to percentages"
   ]
  },
  {
   "cell_type": "code",
   "execution_count": 39,
   "metadata": {},
   "outputs": [],
   "source": [
    "genre_sentiment_dist_pct2 = (genre_sentiment_dist2.unstack(level = 1)).div((genre_sentiment_dist2.unstack(level = 1)).sum(axis=1), axis=0) * 100"
   ]
  },
  {
   "cell_type": "markdown",
   "metadata": {},
   "source": [
    "Visualize"
   ]
  },
  {
   "cell_type": "code",
   "execution_count": 63,
   "metadata": {},
   "outputs": [
    {
     "data": {
      "text/plain": [
       "<Figure size 4000x4000 with 0 Axes>"
      ]
     },
     "metadata": {},
     "output_type": "display_data"
    },
    {
     "data": {
      "image/png": "[encoded data removed]",
      "text/plain": [
       "<Figure size 640x480 with 1 Axes>"
      ]
     },
     "metadata": {},
     "output_type": "display_data"
    }
   ],
   "source": [
    "plt.figure(figsize=(40, 40))\n",
    "genre_sentiment_dist_pct2.plot(kind='bar', stacked=False)\n",
    "plt.title('Sentiment Distribution Across Genres', fontsize=16)\n",
    "plt.xlabel('Genres', fontsize=12)\n",
    "plt.ylabel('Percentage', fontsize=12)\n",
    "plt.legend(title='Sentiment', bbox_to_anchor=(1.05, 1), loc='upper left')\n",
    "plt.xticks(rotation=45, ha='right')\n",
    "plt.tight_layout()\n",
    "plt.savefig('Sentiment Distribution Across Genres.png')\n",
    "plt.show()"
   ]
  },
  {
   "attachments": {
    "image.png": {
     "image/png": "[encoded data removed]"
    }
   },
   "cell_type": "markdown",
   "metadata": {
    "jupyter": {
     "source_hidden": true
    }
   },
   "source": [
    "![image.png](attachment:image.png)"
   ]
  },
  {
   "cell_type": "code",
   "execution_count": 41,
   "metadata": {},
   "outputs": [
    {
     "name": "stdout",
     "output_type": "stream",
     "text": [
      "The News genre movie: Cameraperson\n",
      "\n",
      "\n",
      "Let's look at the description\n",
      "A boxing match in Brooklyn; life in postwar Bosnia and Herzegovina; the daily routine of a Nigerian midwife; an intimate family moment at home: these scenes and others are woven into Cameraperson, a tapestry of footage collected over the twenty-five-year career of documentary cinematographer Kirsten Johnson. Through a series of episodic juxtapositions, Johnson explores the relationships between image makers and their subjects, the tension between the objectivity and intervention of the camera, and the complex interaction of unfiltered reality and crafted narrative. A hybrid work that combines documentary, autobiography, and ethical inquiry, Cameraperson is both a moving glimpse into one filmmaker’s personal journey and a thoughtful examination of what it means to train a camera on the world. [Janus Films]\n"
     ]
    }
   ],
   "source": [
    "print(f'The News genre movie: {genre_sentiment2[genre_sentiment2['Genres'] == 'News']['Title'].values[0]}')\n",
    "print('\\n')\n",
    "print(f'Let\\'s look at the description')\n",
    "print(f'{genre_sentiment2[genre_sentiment2['Genres'] == 'News']['Description'].values[0]}')"
   ]
  },
  {
   "cell_type": "markdown",
   "metadata": {},
   "source": [
    "Here we see that movies that were generally considered positive were in a larger quantity over the decades of movie releases. It makes obvious sense that cheerful and joyous movies (that is movies with genre like Comedy, Romance) have a greater positive sentiment than movies with a darker tone (like Crime, Horror). Only a few movies crossed the threshold of 50% negative sentiment, suggesting that movies are generally intended to have a positive vibe."
   ]
  },
  {
   "cell_type": "markdown",
   "metadata": {},
   "source": [
    "### Exploring Correlation between sentiments and movie ratings"
   ]
  },
  {
   "cell_type": "markdown",
   "metadata": {},
   "source": [
    "For analysis looking into how the ratings correlate with sentiments, the ratings were categorized into bins, for example bin (0, 1], bin (1, 2], etc."
   ]
  },
  {
   "cell_type": "markdown",
   "metadata": {},
   "source": [
    "Getting the dataset ready for this specific part of the analysis"
   ]
  },
  {
   "cell_type": "code",
   "execution_count": 42,
   "metadata": {},
   "outputs": [
    {
     "data": {
      "text/html": [
       "<div>\n",
       "<style scoped>\n",
       "    .dataframe tbody tr th:only-of-type {\n",
       "        vertical-align: middle;\n",
       "    }\n",
       "\n",
       "    .dataframe tbody tr th {\n",
       "        vertical-align: top;\n",
       "    }\n",
       "\n",
       "    .dataframe thead th {\n",
       "        text-align: right;\n",
       "    }\n",
       "</style>\n",
       "<table border=\"1\" class=\"dataframe\">\n",
       "  <thead>\n",
       "    <tr style=\"text-align: right;\">\n",
       "      <th></th>\n",
       "      <th>Title</th>\n",
       "      <th>Description</th>\n",
       "      <th>Sentiment</th>\n",
       "      <th>Sentiment Score</th>\n",
       "      <th>Rating</th>\n",
       "    </tr>\n",
       "  </thead>\n",
       "  <tbody>\n",
       "    <tr>\n",
       "      <th>0</th>\n",
       "      <td>Dekalog (1988)</td>\n",
       "      <td>This masterwork by Krzysztof Kieślowski is one...</td>\n",
       "      <td>Positive</td>\n",
       "      <td>0.999793</td>\n",
       "      <td>7.4</td>\n",
       "    </tr>\n",
       "    <tr>\n",
       "      <th>1</th>\n",
       "      <td>Three Colors: Red</td>\n",
       "      <td>Krzysztof Kieslowski closes his Three Colors t...</td>\n",
       "      <td>Positive</td>\n",
       "      <td>0.999765</td>\n",
       "      <td>8.3</td>\n",
       "    </tr>\n",
       "    <tr>\n",
       "      <th>2</th>\n",
       "      <td>The Conformist</td>\n",
       "      <td>Set in Rome in the 1930s, this re-release of B...</td>\n",
       "      <td>Positive</td>\n",
       "      <td>0.996626</td>\n",
       "      <td>7.3</td>\n",
       "    </tr>\n",
       "    <tr>\n",
       "      <th>3</th>\n",
       "      <td>Tokyo Story</td>\n",
       "      <td>Yasujiro Ozu’s Tokyo Story follows an aging co...</td>\n",
       "      <td>Positive</td>\n",
       "      <td>0.999801</td>\n",
       "      <td>8.1</td>\n",
       "    </tr>\n",
       "    <tr>\n",
       "      <th>4</th>\n",
       "      <td>The Leopard (re-release)</td>\n",
       "      <td>Set in Sicily in 1860, Luchino Visconti's spec...</td>\n",
       "      <td>Positive</td>\n",
       "      <td>0.999763</td>\n",
       "      <td>7.8</td>\n",
       "    </tr>\n",
       "  </tbody>\n",
       "</table>\n",
       "</div>"
      ],
      "text/plain": [
       "                      Title  \\\n",
       "0            Dekalog (1988)   \n",
       "1         Three Colors: Red   \n",
       "2            The Conformist   \n",
       "3               Tokyo Story   \n",
       "4  The Leopard (re-release)   \n",
       "\n",
       "                                         Description Sentiment  \\\n",
       "0  This masterwork by Krzysztof Kieślowski is one...  Positive   \n",
       "1  Krzysztof Kieslowski closes his Three Colors t...  Positive   \n",
       "2  Set in Rome in the 1930s, this re-release of B...  Positive   \n",
       "3  Yasujiro Ozu’s Tokyo Story follows an aging co...  Positive   \n",
       "4  Set in Sicily in 1860, Luchino Visconti's spec...  Positive   \n",
       "\n",
       "   Sentiment Score  Rating  \n",
       "0         0.999793     7.4  \n",
       "1         0.999765     8.3  \n",
       "2         0.996626     7.3  \n",
       "3         0.999801     8.1  \n",
       "4         0.999763     7.8  "
      ]
     },
     "execution_count": 42,
     "metadata": {},
     "output_type": "execute_result"
    }
   ],
   "source": [
    "ratings_sentiment = pd.merge(data_description, data[['Title', 'Rating']], on = 'Title')\n",
    "ratings_sentiment.head()"
   ]
  },
  {
   "cell_type": "markdown",
   "metadata": {},
   "source": [
    "Finding the max and min rating"
   ]
  },
  {
   "cell_type": "code",
   "execution_count": 43,
   "metadata": {},
   "outputs": [
    {
     "name": "stdout",
     "output_type": "stream",
     "text": [
      "The highest rating a movie has received is 10.0\n"
     ]
    },
    {
     "data": {
      "text/html": [
       "<div>\n",
       "<style scoped>\n",
       "    .dataframe tbody tr th:only-of-type {\n",
       "        vertical-align: middle;\n",
       "    }\n",
       "\n",
       "    .dataframe tbody tr th {\n",
       "        vertical-align: top;\n",
       "    }\n",
       "\n",
       "    .dataframe thead th {\n",
       "        text-align: right;\n",
       "    }\n",
       "</style>\n",
       "<table border=\"1\" class=\"dataframe\">\n",
       "  <thead>\n",
       "    <tr style=\"text-align: right;\">\n",
       "      <th></th>\n",
       "      <th>Title</th>\n",
       "      <th>Description</th>\n",
       "      <th>Sentiment</th>\n",
       "      <th>Sentiment Score</th>\n",
       "      <th>Rating</th>\n",
       "    </tr>\n",
       "  </thead>\n",
       "  <tbody>\n",
       "    <tr>\n",
       "      <th>11316</th>\n",
       "      <td>A Hole in My Heart</td>\n",
       "      <td>A brave, shocking cinematic experience intimat...</td>\n",
       "      <td>Positive</td>\n",
       "      <td>0.999785</td>\n",
       "      <td>10.0</td>\n",
       "    </tr>\n",
       "    <tr>\n",
       "      <th>11537</th>\n",
       "      <td>Surviving Eden</td>\n",
       "      <td>In the tradition of \"Waiting for Guffman\" and ...</td>\n",
       "      <td>Positive</td>\n",
       "      <td>0.606158</td>\n",
       "      <td>10.0</td>\n",
       "    </tr>\n",
       "    <tr>\n",
       "      <th>11925</th>\n",
       "      <td>Turk 182</td>\n",
       "      <td>Jimmy Lynch (Timothy Hutton) is angry because ...</td>\n",
       "      <td>Positive</td>\n",
       "      <td>0.825785</td>\n",
       "      <td>10.0</td>\n",
       "    </tr>\n",
       "  </tbody>\n",
       "</table>\n",
       "</div>"
      ],
      "text/plain": [
       "                    Title                                        Description  \\\n",
       "11316  A Hole in My Heart  A brave, shocking cinematic experience intimat...   \n",
       "11537      Surviving Eden  In the tradition of \"Waiting for Guffman\" and ...   \n",
       "11925            Turk 182  Jimmy Lynch (Timothy Hutton) is angry because ...   \n",
       "\n",
       "      Sentiment  Sentiment Score  Rating  \n",
       "11316  Positive         0.999785    10.0  \n",
       "11537  Positive         0.606158    10.0  \n",
       "11925  Positive         0.825785    10.0  "
      ]
     },
     "metadata": {},
     "output_type": "display_data"
    },
    {
     "name": "stdout",
     "output_type": "stream",
     "text": [
      "\n",
      "\n",
      "The lowest rating a movie has received is 0.3\n"
     ]
    },
    {
     "data": {
      "text/html": [
       "<div>\n",
       "<style scoped>\n",
       "    .dataframe tbody tr th:only-of-type {\n",
       "        vertical-align: middle;\n",
       "    }\n",
       "\n",
       "    .dataframe tbody tr th {\n",
       "        vertical-align: top;\n",
       "    }\n",
       "\n",
       "    .dataframe thead th {\n",
       "        text-align: right;\n",
       "    }\n",
       "</style>\n",
       "<table border=\"1\" class=\"dataframe\">\n",
       "  <thead>\n",
       "    <tr style=\"text-align: right;\">\n",
       "      <th></th>\n",
       "      <th>Title</th>\n",
       "      <th>Description</th>\n",
       "      <th>Sentiment</th>\n",
       "      <th>Sentiment Score</th>\n",
       "      <th>Rating</th>\n",
       "    </tr>\n",
       "  </thead>\n",
       "  <tbody>\n",
       "    <tr>\n",
       "      <th>6073</th>\n",
       "      <td>Unpregnant</td>\n",
       "      <td>Seventeen-year-old Veronica (Haley Lu Richards...</td>\n",
       "      <td>Positive</td>\n",
       "      <td>0.999329</td>\n",
       "      <td>0.3</td>\n",
       "    </tr>\n",
       "    <tr>\n",
       "      <th>10305</th>\n",
       "      <td>Bleeding Love</td>\n",
       "      <td>After a drastic incident in her life, a young ...</td>\n",
       "      <td>Positive</td>\n",
       "      <td>0.999496</td>\n",
       "      <td>0.3</td>\n",
       "    </tr>\n",
       "  </tbody>\n",
       "</table>\n",
       "</div>"
      ],
      "text/plain": [
       "               Title                                        Description  \\\n",
       "6073      Unpregnant  Seventeen-year-old Veronica (Haley Lu Richards...   \n",
       "10305  Bleeding Love  After a drastic incident in her life, a young ...   \n",
       "\n",
       "      Sentiment  Sentiment Score  Rating  \n",
       "6073   Positive         0.999329     0.3  \n",
       "10305  Positive         0.999496     0.3  "
      ]
     },
     "execution_count": 43,
     "metadata": {},
     "output_type": "execute_result"
    }
   ],
   "source": [
    "print(f'The highest rating a movie has received is {max(ratings_sentiment['Rating'])}')\n",
    "display(ratings_sentiment.loc[ratings_sentiment['Rating'] == 10.0])\n",
    "print('\\n')\n",
    "print(f'The lowest rating a movie has received is {min(ratings_sentiment['Rating'])}')\n",
    "ratings_sentiment.loc[ratings_sentiment['Rating'] == 0.3]"
   ]
  },
  {
   "cell_type": "code",
   "execution_count": 44,
   "metadata": {},
   "outputs": [
    {
     "data": {
      "text/html": [
       "<div>\n",
       "<style scoped>\n",
       "    .dataframe tbody tr th:only-of-type {\n",
       "        vertical-align: middle;\n",
       "    }\n",
       "\n",
       "    .dataframe tbody tr th {\n",
       "        vertical-align: top;\n",
       "    }\n",
       "\n",
       "    .dataframe thead th {\n",
       "        text-align: right;\n",
       "    }\n",
       "</style>\n",
       "<table border=\"1\" class=\"dataframe\">\n",
       "  <thead>\n",
       "    <tr style=\"text-align: right;\">\n",
       "      <th></th>\n",
       "      <th>Title</th>\n",
       "      <th>Description</th>\n",
       "      <th>Sentiment</th>\n",
       "      <th>Sentiment Score</th>\n",
       "      <th>Rating</th>\n",
       "    </tr>\n",
       "  </thead>\n",
       "  <tbody>\n",
       "    <tr>\n",
       "      <th>11316</th>\n",
       "      <td>A Hole in My Heart</td>\n",
       "      <td>A brave, shocking cinematic experience intimat...</td>\n",
       "      <td>Positive</td>\n",
       "      <td>0.999785</td>\n",
       "      <td>10.0</td>\n",
       "    </tr>\n",
       "    <tr>\n",
       "      <th>11537</th>\n",
       "      <td>Surviving Eden</td>\n",
       "      <td>In the tradition of \"Waiting for Guffman\" and ...</td>\n",
       "      <td>Positive</td>\n",
       "      <td>0.606158</td>\n",
       "      <td>10.0</td>\n",
       "    </tr>\n",
       "    <tr>\n",
       "      <th>11925</th>\n",
       "      <td>Turk 182</td>\n",
       "      <td>Jimmy Lynch (Timothy Hutton) is angry because ...</td>\n",
       "      <td>Positive</td>\n",
       "      <td>0.825785</td>\n",
       "      <td>10.0</td>\n",
       "    </tr>\n",
       "  </tbody>\n",
       "</table>\n",
       "</div>"
      ],
      "text/plain": [
       "                    Title                                        Description  \\\n",
       "11316  A Hole in My Heart  A brave, shocking cinematic experience intimat...   \n",
       "11537      Surviving Eden  In the tradition of \"Waiting for Guffman\" and ...   \n",
       "11925            Turk 182  Jimmy Lynch (Timothy Hutton) is angry because ...   \n",
       "\n",
       "      Sentiment  Sentiment Score  Rating  \n",
       "11316  Positive         0.999785    10.0  \n",
       "11537  Positive         0.606158    10.0  \n",
       "11925  Positive         0.825785    10.0  "
      ]
     },
     "execution_count": 44,
     "metadata": {},
     "output_type": "execute_result"
    }
   ],
   "source": [
    "ratings_sentiment.loc[ratings_sentiment['Rating'] == 10.0]"
   ]
  },
  {
   "cell_type": "markdown",
   "metadata": {},
   "source": [
    "Can we put the Ratings into sort of bins and see a stacked bar plot of positive-negative distribution? This might tell us if a particular sentiment for a movie is rated more likely than the other\n",
    "\n",
    "We can use the bin method: https://stackoverflow.com/questions/45273731/binning-a-column-with-pandas"
   ]
  },
  {
   "cell_type": "markdown",
   "metadata": {},
   "source": [
    "So first, create the bins"
   ]
  },
  {
   "cell_type": "code",
   "execution_count": 45,
   "metadata": {},
   "outputs": [],
   "source": [
    "bins = [0, 1, 2, 3, 4, 5, 6, 7, 8, 9, 10]"
   ]
  },
  {
   "cell_type": "markdown",
   "metadata": {},
   "source": [
    "Segment and sort the ratings into the bins"
   ]
  },
  {
   "cell_type": "code",
   "execution_count": 46,
   "metadata": {},
   "outputs": [
    {
     "data": {
      "text/html": [
       "<div>\n",
       "<style scoped>\n",
       "    .dataframe tbody tr th:only-of-type {\n",
       "        vertical-align: middle;\n",
       "    }\n",
       "\n",
       "    .dataframe tbody tr th {\n",
       "        vertical-align: top;\n",
       "    }\n",
       "\n",
       "    .dataframe thead th {\n",
       "        text-align: right;\n",
       "    }\n",
       "</style>\n",
       "<table border=\"1\" class=\"dataframe\">\n",
       "  <thead>\n",
       "    <tr style=\"text-align: right;\">\n",
       "      <th></th>\n",
       "      <th>Title</th>\n",
       "      <th>Description</th>\n",
       "      <th>Sentiment</th>\n",
       "      <th>Sentiment Score</th>\n",
       "      <th>Rating</th>\n",
       "      <th>Rating bins</th>\n",
       "    </tr>\n",
       "  </thead>\n",
       "  <tbody>\n",
       "    <tr>\n",
       "      <th>0</th>\n",
       "      <td>Dekalog (1988)</td>\n",
       "      <td>This masterwork by Krzysztof Kieślowski is one...</td>\n",
       "      <td>Positive</td>\n",
       "      <td>0.999793</td>\n",
       "      <td>7.4</td>\n",
       "      <td>(7, 8]</td>\n",
       "    </tr>\n",
       "    <tr>\n",
       "      <th>1</th>\n",
       "      <td>Three Colors: Red</td>\n",
       "      <td>Krzysztof Kieslowski closes his Three Colors t...</td>\n",
       "      <td>Positive</td>\n",
       "      <td>0.999765</td>\n",
       "      <td>8.3</td>\n",
       "      <td>(8, 9]</td>\n",
       "    </tr>\n",
       "    <tr>\n",
       "      <th>2</th>\n",
       "      <td>The Conformist</td>\n",
       "      <td>Set in Rome in the 1930s, this re-release of B...</td>\n",
       "      <td>Positive</td>\n",
       "      <td>0.996626</td>\n",
       "      <td>7.3</td>\n",
       "      <td>(7, 8]</td>\n",
       "    </tr>\n",
       "    <tr>\n",
       "      <th>3</th>\n",
       "      <td>Tokyo Story</td>\n",
       "      <td>Yasujiro Ozu’s Tokyo Story follows an aging co...</td>\n",
       "      <td>Positive</td>\n",
       "      <td>0.999801</td>\n",
       "      <td>8.1</td>\n",
       "      <td>(8, 9]</td>\n",
       "    </tr>\n",
       "    <tr>\n",
       "      <th>4</th>\n",
       "      <td>The Leopard (re-release)</td>\n",
       "      <td>Set in Sicily in 1860, Luchino Visconti's spec...</td>\n",
       "      <td>Positive</td>\n",
       "      <td>0.999763</td>\n",
       "      <td>7.8</td>\n",
       "      <td>(7, 8]</td>\n",
       "    </tr>\n",
       "  </tbody>\n",
       "</table>\n",
       "</div>"
      ],
      "text/plain": [
       "                      Title  \\\n",
       "0            Dekalog (1988)   \n",
       "1         Three Colors: Red   \n",
       "2            The Conformist   \n",
       "3               Tokyo Story   \n",
       "4  The Leopard (re-release)   \n",
       "\n",
       "                                         Description Sentiment  \\\n",
       "0  This masterwork by Krzysztof Kieślowski is one...  Positive   \n",
       "1  Krzysztof Kieslowski closes his Three Colors t...  Positive   \n",
       "2  Set in Rome in the 1930s, this re-release of B...  Positive   \n",
       "3  Yasujiro Ozu’s Tokyo Story follows an aging co...  Positive   \n",
       "4  Set in Sicily in 1860, Luchino Visconti's spec...  Positive   \n",
       "\n",
       "   Sentiment Score  Rating Rating bins  \n",
       "0         0.999793     7.4      (7, 8]  \n",
       "1         0.999765     8.3      (8, 9]  \n",
       "2         0.996626     7.3      (7, 8]  \n",
       "3         0.999801     8.1      (8, 9]  \n",
       "4         0.999763     7.8      (7, 8]  "
      ]
     },
     "execution_count": 46,
     "metadata": {},
     "output_type": "execute_result"
    }
   ],
   "source": [
    "ratings_sentiment['Rating bins'] = pd.cut(ratings_sentiment['Rating'], bins)\n",
    "ratings_sentiment.head()"
   ]
  },
  {
   "cell_type": "markdown",
   "metadata": {},
   "source": [
    "Display examples of Positive and Negative sentiments:"
   ]
  },
  {
   "cell_type": "code",
   "execution_count": 47,
   "metadata": {},
   "outputs": [],
   "source": [
    "ratings_positive_sentiment = ratings_sentiment[ratings_sentiment['Sentiment'] == 'Positive']\n",
    "ratings_negative_sentiment = ratings_sentiment[ratings_sentiment['Sentiment'] == 'Negative']"
   ]
  },
  {
   "cell_type": "markdown",
   "metadata": {},
   "source": [
    "Create a pivot table to summarize the count"
   ]
  },
  {
   "cell_type": "code",
   "execution_count": 48,
   "metadata": {},
   "outputs": [],
   "source": [
    "ratings_sentiment_counts = ratings_sentiment.pivot_table(index='Rating bins', columns='Sentiment', aggfunc='size', fill_value=0, observed=False)"
   ]
  },
  {
   "cell_type": "markdown",
   "metadata": {},
   "source": [
    "Calculate percentage"
   ]
  },
  {
   "cell_type": "code",
   "execution_count": 49,
   "metadata": {},
   "outputs": [
    {
     "name": "stdout",
     "output_type": "stream",
     "text": [
      "Sentiment    Negative  Positive\n",
      "Rating bins                    \n",
      "(0, 1]       0.166667  0.833333\n",
      "(1, 2]       0.166667  0.833333\n",
      "(2, 3]       0.130435  0.869565\n",
      "(3, 4]       0.157025  0.842975\n",
      "(4, 5]       0.177824  0.822176\n",
      "(5, 6]       0.146816  0.853184\n",
      "(6, 7]       0.144837  0.855163\n",
      "(7, 8]       0.144171  0.855829\n",
      "(8, 9]       0.162347  0.837653\n",
      "(9, 10]      0.162162  0.837838\n"
     ]
    }
   ],
   "source": [
    "ratings_sentiment_percentages = ratings_sentiment_counts.div(ratings_sentiment_counts.sum(axis=1), axis=0)\n",
    "print(ratings_sentiment_percentages)"
   ]
  },
  {
   "cell_type": "markdown",
   "metadata": {},
   "source": [
    "Plot the stacked bar chart"
   ]
  },
  {
   "cell_type": "code",
   "execution_count": 60,
   "metadata": {},
   "outputs": [
    {
     "data": {
      "image/png": "[encoded data removed]",
      "text/plain": [
       "<Figure size 500x400 with 1 Axes>"
      ]
     },
     "metadata": {},
     "output_type": "display_data"
    }
   ],
   "source": [
    "ratings_sentiment_percentages.plot(kind='bar', stacked=False, figsize=(5, 4), color=['red', 'green'])\n",
    "plt.title('Sentiment Distribution Across Rating Bins (Percentage)')\n",
    "plt.xlabel('Rating Bins')\n",
    "plt.ylabel('Percentage')\n",
    "plt.legend(title='Sentiment')\n",
    "plt.xticks(rotation=45)\n",
    "plt.tight_layout()\n",
    "plt.savefig('Sentiment Distribution Across Rating Bins.png')\n",
    "plt.show()"
   ]
  },
  {
   "attachments": {
    "image.png": {
     "image/png": "[encoded data removed]"
    }
   },
   "cell_type": "markdown",
   "metadata": {
    "jupyter": {
     "source_hidden": true
    }
   },
   "source": [
    "![image.png](attachment:image.png)"
   ]
  },
  {
   "cell_type": "markdown",
   "metadata": {},
   "source": [
    "Over the board, it was observed that the entiments were fairly constant. People generally rated the movies to the same extent over the entire rating spectrum. Figure 2 above displays the result of such an outcome."
   ]
  },
  {
   "cell_type": "markdown",
   "metadata": {},
   "source": [
    "### Directors and sentiments"
   ]
  },
  {
   "cell_type": "markdown",
   "metadata": {},
   "source": [
    "Another interesting analysis that came out of sentiment observation is how certain director align themselves with positive toned movies and other directors prefer the darker tone. I have made a venn diagram below to display this (Figure 3)."
   ]
  },
  {
   "cell_type": "code",
   "execution_count": 51,
   "metadata": {},
   "outputs": [],
   "source": [
    "from matplotlib_venn import venn2, venn2_circles"
   ]
  },
  {
   "cell_type": "markdown",
   "metadata": {},
   "source": [
    "Get the dataset ready for this part of the analysis"
   ]
  },
  {
   "cell_type": "code",
   "execution_count": 52,
   "metadata": {},
   "outputs": [
    {
     "data": {
      "text/html": [
       "<div>\n",
       "<style scoped>\n",
       "    .dataframe tbody tr th:only-of-type {\n",
       "        vertical-align: middle;\n",
       "    }\n",
       "\n",
       "    .dataframe tbody tr th {\n",
       "        vertical-align: top;\n",
       "    }\n",
       "\n",
       "    .dataframe thead th {\n",
       "        text-align: right;\n",
       "    }\n",
       "</style>\n",
       "<table border=\"1\" class=\"dataframe\">\n",
       "  <thead>\n",
       "    <tr style=\"text-align: right;\">\n",
       "      <th></th>\n",
       "      <th>Title</th>\n",
       "      <th>Description</th>\n",
       "      <th>Sentiment</th>\n",
       "      <th>Sentiment Score</th>\n",
       "      <th>Directed by</th>\n",
       "    </tr>\n",
       "  </thead>\n",
       "  <tbody>\n",
       "    <tr>\n",
       "      <th>0</th>\n",
       "      <td>Dekalog (1988)</td>\n",
       "      <td>This masterwork by Krzysztof Kieślowski is one...</td>\n",
       "      <td>Positive</td>\n",
       "      <td>0.999793</td>\n",
       "      <td>Krzysztof Kieslowski</td>\n",
       "    </tr>\n",
       "    <tr>\n",
       "      <th>1</th>\n",
       "      <td>Three Colors: Red</td>\n",
       "      <td>Krzysztof Kieslowski closes his Three Colors t...</td>\n",
       "      <td>Positive</td>\n",
       "      <td>0.999765</td>\n",
       "      <td>Krzysztof Kieslowski</td>\n",
       "    </tr>\n",
       "    <tr>\n",
       "      <th>2</th>\n",
       "      <td>The Conformist</td>\n",
       "      <td>Set in Rome in the 1930s, this re-release of B...</td>\n",
       "      <td>Positive</td>\n",
       "      <td>0.996626</td>\n",
       "      <td>Bernardo Bertolucci</td>\n",
       "    </tr>\n",
       "    <tr>\n",
       "      <th>3</th>\n",
       "      <td>Tokyo Story</td>\n",
       "      <td>Yasujiro Ozu’s Tokyo Story follows an aging co...</td>\n",
       "      <td>Positive</td>\n",
       "      <td>0.999801</td>\n",
       "      <td>Yasujirô Ozu</td>\n",
       "    </tr>\n",
       "    <tr>\n",
       "      <th>4</th>\n",
       "      <td>The Leopard (re-release)</td>\n",
       "      <td>Set in Sicily in 1860, Luchino Visconti's spec...</td>\n",
       "      <td>Positive</td>\n",
       "      <td>0.999763</td>\n",
       "      <td>Luchino Visconti</td>\n",
       "    </tr>\n",
       "  </tbody>\n",
       "</table>\n",
       "</div>"
      ],
      "text/plain": [
       "                      Title  \\\n",
       "0            Dekalog (1988)   \n",
       "1         Three Colors: Red   \n",
       "2            The Conformist   \n",
       "3               Tokyo Story   \n",
       "4  The Leopard (re-release)   \n",
       "\n",
       "                                         Description Sentiment  \\\n",
       "0  This masterwork by Krzysztof Kieślowski is one...  Positive   \n",
       "1  Krzysztof Kieslowski closes his Three Colors t...  Positive   \n",
       "2  Set in Rome in the 1930s, this re-release of B...  Positive   \n",
       "3  Yasujiro Ozu’s Tokyo Story follows an aging co...  Positive   \n",
       "4  Set in Sicily in 1860, Luchino Visconti's spec...  Positive   \n",
       "\n",
       "   Sentiment Score           Directed by  \n",
       "0         0.999793  Krzysztof Kieslowski  \n",
       "1         0.999765  Krzysztof Kieslowski  \n",
       "2         0.996626   Bernardo Bertolucci  \n",
       "3         0.999801          Yasujirô Ozu  \n",
       "4         0.999763      Luchino Visconti  "
      ]
     },
     "execution_count": 52,
     "metadata": {},
     "output_type": "execute_result"
    }
   ],
   "source": [
    "directors_sentiments = pd.merge(data_description, data[['Title', 'Directed by']], on = 'Title')\n",
    "directors_sentiments.head()"
   ]
  },
  {
   "cell_type": "markdown",
   "metadata": {},
   "source": [
    "Put the \"Positive\" sentiment directors in one dataframe, and \"Negative\" sentiment directors in another"
   ]
  },
  {
   "cell_type": "code",
   "execution_count": 53,
   "metadata": {},
   "outputs": [],
   "source": [
    "positive_directors = directors_sentiments.loc[directors_sentiments['Sentiment'] == 'Positive', 'Directed by']\n",
    "negative_directors = directors_sentiments.loc[directors_sentiments['Sentiment'] == 'Negative', 'Directed by']"
   ]
  },
  {
   "cell_type": "markdown",
   "metadata": {},
   "source": [
    "Create a set"
   ]
  },
  {
   "cell_type": "code",
   "execution_count": 54,
   "metadata": {},
   "outputs": [],
   "source": [
    "set_positive_directors = set(positive_directors)\n",
    "set_negative_directors = set(negative_directors)"
   ]
  },
  {
   "cell_type": "markdown",
   "metadata": {},
   "source": [
    "Plot the venn diagram of directors:"
   ]
  },
  {
   "cell_type": "code",
   "execution_count": 55,
   "metadata": {},
   "outputs": [
    {
     "data": {
      "image/png": "[encoded data removed]",
      "text/plain": [
       "<Figure size 800x800 with 1 Axes>"
      ]
     },
     "metadata": {},
     "output_type": "display_data"
    }
   ],
   "source": [
    "plt.figure(figsize=(8, 8)) \n",
    "venn2([set_positive_directors, set_negative_directors], ('Positive', 'Negative')) \n",
    "plt.title('Venn Diagram of Directors')\n",
    "plt.savefig('Venn Diagram of Directors.png')\n",
    "plt.show()"
   ]
  },
  {
   "attachments": {
    "image.png": {
     "image/png": "[encoded data removed]"
    }
   },
   "cell_type": "markdown",
   "metadata": {
    "jupyter": {
     "source_hidden": true
    }
   },
   "source": [
    "![image.png](attachment:image.png)"
   ]
  },
  {
   "cell_type": "markdown",
   "metadata": {},
   "source": [
    "We see there are about 2493 directors who likes to work on Positively toned movies, while about 1427 directors on dark and negatively toned movies."
   ]
  },
  {
   "cell_type": "markdown",
   "metadata": {},
   "source": [
    "Some unique directors:"
   ]
  },
  {
   "cell_type": "code",
   "execution_count": 56,
   "metadata": {},
   "outputs": [
    {
     "name": "stdout",
     "output_type": "stream",
     "text": [
      "Some unique directors who only directed positively toned movies are:\n",
      "\n",
      "['Tomm Moore, Ross Stewart', 'Bryan Bertino', 'Hiromasa Yonebayashi', 'Bill Kroyer', 'Asif Kapadia', 'Dylan Baker', 'Harry Bradbeer', 'Erin Lee Carr', 'Madonna', 'Jennifer Baichwal, Edward Burtynsky']\n"
     ]
    }
   ],
   "source": [
    "unique_positive_directors = set_positive_directors - set_negative_directors\n",
    "print(f'Some unique directors who only directed positively toned movies are:\\n')\n",
    "print(list(unique_positive_directors)[:10])"
   ]
  },
  {
   "cell_type": "code",
   "execution_count": 57,
   "metadata": {},
   "outputs": [
    {
     "name": "stdout",
     "output_type": "stream",
     "text": [
      "Some unique directors who only directed negatively toned movies are:\n",
      "\n",
      "['Simon Barrett, Steven Kostanski, Chloe Okuno, Ryan Prows', 'Neema Barnette', 'Marco Schnabel', 'Flying Lotus', 'Gregory Poirier', 'Mark Neveldine', 'Onur Tukel', 'Eddie Mensore', 'Amy Seimetz', 'Gil Junger']\n"
     ]
    }
   ],
   "source": [
    "unique_negative_directors = set_negative_directors - set_positive_directors\n",
    "print(f'Some unique directors who only directed negatively toned movies are:\\n')\n",
    "print(list(unique_negative_directors)[:10])"
   ]
  },
  {
   "cell_type": "markdown",
   "metadata": {},
   "source": [
    "Some examples of the “Positive” directors are Josh Lawson, Fred Cavay´e, Ken Marino, Michael Dweck, Gregory Kershaw; on the other hand some “Negative” directors are Gerard Johnson, Katie Aselton, Gregg Bishop, Spike Lee, Danya Taymor, Meg Ryan. This gives us an idea of what kind of movies an audience might expect coming from these directors."
   ]
  },
  {
   "cell_type": "markdown",
   "metadata": {},
   "source": [
    "## Conclusion"
   ]
  },
  {
   "cell_type": "markdown",
   "metadata": {},
   "source": [
    "The sentiment analysis provided valuable insights into the emotional/sentiment tones prevalent in different movie description. By leveraging NLP and advanced transformer models, it was possible to quantify from textual concept and visualize these sentiments effectively.\n",
    "\n",
    "By understanding these trends, industry professionals can better tailor their content and marketing efforts to meet audience expectations, ultimately improving viewer satisfaction and engagement."
   ]
  },
  {
   "cell_type": "markdown",
   "metadata": {},
   "source": [
    "## Bibliography"
   ]
  },
  {
   "cell_type": "markdown",
   "metadata": {},
   "source": [
    "[1] IBM. (2023). What is sentiment analysis? — IBM. www.ibm.com.https://www.ibm.com/topics/sentiment-analysis\n",
    "\n",
    "[2] Hugging Face. (2024). Hugging Face– On a mission to solve NLP, one commit at a time. https://huggingface.co/\n",
    "\n",
    "[3] jake3375. (2024, September 5). 16000+ Movies dataset. Kaggle.com; Kaggle. https://www.kaggle.com/code/jake3375/16000-movies-dataset\n",
    "\n",
    "[4] sarahai/movie-sentiment-analysis · Hugging Face. (2024, January 4). https://huggingface.co/sarahai/movie-sentiment-analysis\n",
    "\n",
    "[5] Andrew L. Maas, Raymond E. Daly, Peter T. Pham, Dan Huang, Andrew Y. Ng, and Christopher Potts. (2011). Learning Word Vectors for Sentiment Analysis. The 49th Annual Meeting of the Association for Computational Linguistics (ACL 2011)."
   ]
  }
 ],
 "metadata": {
  "kernelspec": {
   "display_name": "Python 3 (ipykernel)",
   "language": "python",
   "name": "python3"
  },
  "language_info": {
   "codemirror_mode": {
    "name": "ipython",
    "version": 3
   },
   "file_extension": ".py",
   "mimetype": "text/x-python",
   "name": "python",
   "nbconvert_exporter": "python",
   "pygments_lexer": "ipython3",
   "version": "3.12.5"
  }
 },
 "nbformat": 4,
 "nbformat_minor": 4
}
